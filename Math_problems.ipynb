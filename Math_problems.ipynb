{
 "cells": [
  {
   "cell_type": "code",
   "execution_count": 2,
   "metadata": {},
   "outputs": [],
   "source": [
    "import pandas as pd\n",
    "\n",
    "import matplotlib.pyplot as plt\n",
    "import pandas as pd\n",
    "import requests\n",
    "import seaborn as sns\n",
    "\n",
    "import openai\n",
    "from tenacity import retry, stop_after_attempt, wait_random_exponential\n",
    "\n",
    "from nltk.translate.bleu_score import sentence_bleu\n",
    "from nltk.tokenize import word_tokenize\n",
    "\n",
    "from transformers import BertTokenizer, BertModel\n",
    "import torch.nn.functional as F\n",
    "import torch\n",
    "\n",
    "import warnings\n",
    "warnings.filterwarnings(\"ignore\")"
   ]
  },
  {
   "cell_type": "code",
   "execution_count": 6,
   "metadata": {},
   "outputs": [
    {
     "data": {
      "text/html": [
       "<div>\n",
       "<style scoped>\n",
       "    .dataframe tbody tr th:only-of-type {\n",
       "        vertical-align: middle;\n",
       "    }\n",
       "\n",
       "    .dataframe tbody tr th {\n",
       "        vertical-align: top;\n",
       "    }\n",
       "\n",
       "    .dataframe thead th {\n",
       "        text-align: right;\n",
       "    }\n",
       "</style>\n",
       "<table border=\"1\" class=\"dataframe\">\n",
       "  <thead>\n",
       "    <tr style=\"text-align: right;\">\n",
       "      <th></th>\n",
       "      <th>question</th>\n",
       "      <th>answer_text</th>\n",
       "      <th>answer_key</th>\n",
       "      <th>question_arm</th>\n",
       "    </tr>\n",
       "  </thead>\n",
       "  <tbody>\n",
       "    <tr>\n",
       "      <th>0</th>\n",
       "      <td>In Professor Plum's biology class there are 40...</td>\n",
       "      <td>We start with the initial numbers of students,...</td>\n",
       "      <td>8</td>\n",
       "      <td>Պրոֆեսոր Պլամի կենսաբանության դասարանում սովոր...</td>\n",
       "    </tr>\n",
       "    <tr>\n",
       "      <th>1</th>\n",
       "      <td>Diane bought twenty more apples than Cecile. I...</td>\n",
       "      <td>Diane bought 15 + 20 = &lt;&lt;15+20=35&gt;&gt;35 apples.\\...</td>\n",
       "      <td>50</td>\n",
       "      <td>Դայան Սեսիլից քսան խնձոր ավելի շատ գնեց։ Եթե ​...</td>\n",
       "    </tr>\n",
       "    <tr>\n",
       "      <th>2</th>\n",
       "      <td>Ann can skate 6 miles an hour. Her friend Glen...</td>\n",
       "      <td>First find how far Glenda goes in 3 hours by m...</td>\n",
       "      <td>42</td>\n",
       "      <td>Էննը կարող է սահել ժամում 6 մղոն արագությամբ: ...</td>\n",
       "    </tr>\n",
       "    <tr>\n",
       "      <th>3</th>\n",
       "      <td>Running for 2 hours, Jonah burnt 30 calories e...</td>\n",
       "      <td>When Jonah ran for 2 hours, burning 30 calorie...</td>\n",
       "      <td>90</td>\n",
       "      <td>2 ժամ վազելով՝ Ջոնան ամեն ժամ այրել է 30 կալոր...</td>\n",
       "    </tr>\n",
       "    <tr>\n",
       "      <th>4</th>\n",
       "      <td>The city of Richmond has 1000 more people than...</td>\n",
       "      <td>Victoria has 3000-1000=&lt;&lt;3000-1000=2000&gt;&gt;2000 ...</td>\n",
       "      <td>500</td>\n",
       "      <td>Ռիչմոնդ քաղաքը 1000-ով ավելի մարդ ունի, քան Վի...</td>\n",
       "    </tr>\n",
       "  </tbody>\n",
       "</table>\n",
       "</div>"
      ],
      "text/plain": [
       "                                            question  \\\n",
       "0  In Professor Plum's biology class there are 40...   \n",
       "1  Diane bought twenty more apples than Cecile. I...   \n",
       "2  Ann can skate 6 miles an hour. Her friend Glen...   \n",
       "3  Running for 2 hours, Jonah burnt 30 calories e...   \n",
       "4  The city of Richmond has 1000 more people than...   \n",
       "\n",
       "                                         answer_text  answer_key  \\\n",
       "0  We start with the initial numbers of students,...           8   \n",
       "1  Diane bought 15 + 20 = <<15+20=35>>35 apples.\\...          50   \n",
       "2  First find how far Glenda goes in 3 hours by m...          42   \n",
       "3  When Jonah ran for 2 hours, burning 30 calorie...          90   \n",
       "4  Victoria has 3000-1000=<<3000-1000=2000>>2000 ...         500   \n",
       "\n",
       "                                        question_arm  \n",
       "0  Պրոֆեսոր Պլամի կենսաբանության դասարանում սովոր...  \n",
       "1  Դայան Սեսիլից քսան խնձոր ավելի շատ գնեց։ Եթե ​...  \n",
       "2  Էննը կարող է սահել ժամում 6 մղոն արագությամբ: ...  \n",
       "3  2 ժամ վազելով՝ Ջոնան ամեն ժամ այրել է 30 կալոր...  \n",
       "4  Ռիչմոնդ քաղաքը 1000-ով ավելի մարդ ունի, քան Վի...  "
      ]
     },
     "execution_count": 6,
     "metadata": {},
     "output_type": "execute_result"
    }
   ],
   "source": [
    "df = pd.read_csv(\"Data/gsm8k.csv\")\n",
    "df.head()"
   ]
  },
  {
   "cell_type": "code",
   "execution_count": 3,
   "metadata": {},
   "outputs": [],
   "source": [
    "# Read the API key from the file\n",
    "with open('api_key.txt', 'r') as file:\n",
    "    api_key = file.read().strip()\n",
    "\n",
    "# Set the API key in the OpenAI library\n",
    "openai.api_key = api_key\n",
    "\n",
    "# Define the model to use\n",
    "GPT_MODEL = \"gpt-3.5-turbo-0613\""
   ]
  },
  {
   "cell_type": "code",
   "execution_count": 4,
   "metadata": {},
   "outputs": [],
   "source": [
    "@retry(wait=wait_random_exponential(multiplier=1, max=40), stop=stop_after_attempt(3))\n",
    "def chat_completion_request(messages, tools=None, tool_choice=None, model = GPT_MODEL):\n",
    "    \"\"\"\n",
    "    Sends request to the OpenAI API to generate chat completions based on the provided messages.\n",
    "\n",
    "    Parameters:\n",
    "    - messages (list): A list of message dictionaries to be sent to the chat completion model.\n",
    "    - tools (list, optional): A list of tools that can be utilized for generating completions.\n",
    "    - tool_choice (str, optional): A specific tool choice to influence the completion generation.\n",
    "    - model (str): The model to be used for generating completions.\n",
    "\n",
    "    Returns:\n",
    "    - dict: The JSON response from the API containing the completion if the request is successful.\n",
    "\n",
    "    Raises:\n",
    "    - Exception: If the request fails after the maximum number of retry attempts, it raises and\n",
    "      returns the exception, and prints an error message to the console.\n",
    "    \"\"\"\n",
    "    headers = {\n",
    "        \"Content-Type\": \"application/json\",\n",
    "        \"Authorization\": \"Bearer \" + openai.api_key,\n",
    "    }\n",
    "    json_data = {\"model\": model, \"messages\": messages}\n",
    "\n",
    "    if tools is not None:\n",
    "        json_data.update({\"tools\": tools})\n",
    "    if tool_choice is not None:\n",
    "        json_data.update({\"tool_choice\": tool_choice})\n",
    "        \n",
    "    try:\n",
    "        response = requests.post(\n",
    "            \"https://api.openai.com/v1/chat/completions\",\n",
    "            headers=headers,\n",
    "            json=json_data,\n",
    "        )\n",
    "        return response.json() \n",
    "    except Exception as e:\n",
    "        print(\"Unable to generate ChatCompletion response\")\n",
    "        print(f\"Exception: {e}\")\n",
    "        return e"
   ]
  },
  {
   "cell_type": "markdown",
   "metadata": {},
   "source": [
    "# Zero-Shot Prompting"
   ]
  },
  {
   "cell_type": "code",
   "execution_count": 16,
   "metadata": {},
   "outputs": [],
   "source": [
    "def zero_shot_question(question, language = \"English\"):\n",
    "    \"\"\"\n",
    "    This function asks a zero-shot question based on the provided question.\n",
    "    \n",
    "    Args:\n",
    "    question (str): The question to ask.\n",
    "    \n",
    "    Returns:\n",
    "    str: The answer generated by the model.\n",
    "    \"\"\"\n",
    "    messages = []\n",
    "    messages.append({\n",
    "        \"role\": \"system\",\n",
    "        \"content\": f\"Answer the given question in {language}. Solve the given math problem and give the asnwer in form of the number. Be specific and short.\"\n",
    "    })\n",
    "    messages.append({\n",
    "        \"role\": \"assistant\",\n",
    "        \"content\": question\n",
    "    })\n",
    "    chat_response = chat_completion_request(messages)\n",
    "    assistant_message = chat_response[\"choices\"][0][\"message\"][\"content\"] \n",
    "    return assistant_message\n"
   ]
  },
  {
   "cell_type": "code",
   "execution_count": 14,
   "metadata": {},
   "outputs": [
    {
     "name": "stdout",
     "output_type": "stream",
     "text": [
      "Առաջինը, ուսանողը լակոտ չէ։\n",
      "Երկրորդը, ուսանողը թութակ չէ։\n",
      "Ուսանողների քանակը՝ 40.\n",
      "Քոթոթներով ուսանողների քանակը՝ 25% * 40 = 10.\n"
     ]
    }
   ],
   "source": [
    "# Example\n",
    "question = \"\"\"Պրոֆեսոր Պլամի կենսաբանության դասարանում սովորում է 40 ուսանող։ Այդ ուսանողների 80 տոկոսն ունի ձագեր: Քոթոթներ ունեցողների 25%-ը նույնպես թութակներ ունի։ Քանի՞ ուսանող ունի և՛ լակոտ, և՛ թութակ:\"\"\"\n",
    "response = zero_shot_question(question, language=\"Armenian\")\n",
    "print(response)"
   ]
  },
  {
   "cell_type": "code",
   "execution_count": 17,
   "metadata": {},
   "outputs": [],
   "source": [
    "def apply_zero_shot_to_df(df, question_col, response_col, language=\"English\"):\n",
    "    \"\"\"\n",
    "    Applies zero-shot question answering to specified question columns of a DataFrame,\n",
    "    and stores the responses in a new column.\n",
    "\n",
    "    Parameters:\n",
    "    - df (pandas.DataFrame): The DataFrame containing the data.\n",
    "    - question_col (str): Name of the column containing the questions.\n",
    "    - response_col (str): Name of the column where the responses will be stored.\n",
    "    - language (str, optional): The language in which the questions are provided. Defaults to \"English\".\n",
    "    \"\"\"\n",
    "    for index, row in df.iterrows():\n",
    "        response = zero_shot_question(row[question_col], language)\n",
    "        df.at[index, response_col] = response\n",
    "\n",
    "    \n",
    "    # Save the DataFrame after updating\n",
    "    df.to_csv('Data/gsm8k.csv', index=False)"
   ]
  },
  {
   "cell_type": "code",
   "execution_count": 18,
   "metadata": {},
   "outputs": [],
   "source": [
    "apply_zero_shot_to_df(df, 'question', 'response_en_ZS')\n",
    "apply_zero_shot_to_df(df, 'question_arm', 'response_arm_ZS', language='Armenian')"
   ]
  },
  {
   "cell_type": "markdown",
   "metadata": {},
   "source": [
    "# One-Shot Prompting"
   ]
  },
  {
   "cell_type": "code",
   "execution_count": 19,
   "metadata": {},
   "outputs": [],
   "source": [
    "def one_shot_question(question, example, language=\"English\"):\n",
    "    \"\"\"\n",
    "    Executes a one-shot learning-based question answering with an example provided.\n",
    "\n",
    "    Parameters:\n",
    "    - question (str): The question that needs answering.\n",
    "    - example (dict): An example containing a question and answer to guide the model.\n",
    "    - language (str): The language in which the question is written. Defaults to \"English\".\n",
    "\n",
    "    Returns:\n",
    "    - str: The extracted answer if available; otherwise, an error message.\n",
    "    \"\"\"\n",
    "    messages = [\n",
    "        {\"role\": \"system\", \"content\": f\"Answer the given question in {language}. Solve the given math problem and give the asnwer in form of the number. Be specific and short.\"},\n",
    "        {\"role\": \"assistant\", \"content\": example[\"question\"]},\n",
    "        {\"role\": \"assistant\", \"content\": example[\"answer\"]},\n",
    "        {\"role\": \"assistant\", \"content\": question}\n",
    "    ]\n",
    "    chat_response = chat_completion_request(messages)\n",
    "    assistant_message = chat_response[\"choices\"][0][\"message\"][\"content\"] \n",
    "    return assistant_message"
   ]
  },
  {
   "cell_type": "code",
   "execution_count": 20,
   "metadata": {},
   "outputs": [],
   "source": [
    "def apply_one_shot_to_df(df, question_col, example, response_col, language=\"English\"):\n",
    "    \"\"\"\n",
    "    Applies one-shot question answering to specified columns of a DataFrame,\n",
    "    using an example to guide the model, and stores the responses in a new column.\n",
    "\n",
    "    Parameters:\n",
    "    - df (pandas.DataFrame): The DataFrame containing the data.\n",
    "    - question_col (str): Name of the column containing the questions.\n",
    "    - example (dict): The example to guide the model.\n",
    "    - response_col (str): Name of the column where the responses will be stored.\n",
    "    - language (str, optional): The language in which the questions, passages, and examples are provided. Defaults to \"English\".\n",
    "    \"\"\"\n",
    "    for index, row in df.iterrows():\n",
    "        response = one_shot_question(row[question_col], example, language)\n",
    "        df.at[index, response_col] = response\n",
    "\n",
    "    # Save the DataFrame after updating\n",
    "    df.to_csv('Data/gsm8k.csv', index=False)\n"
   ]
  },
  {
   "cell_type": "code",
   "execution_count": 22,
   "metadata": {},
   "outputs": [],
   "source": [
    "example_en = {\n",
    "    \"question\": \"\"\"There are 50 children at the party. \n",
    "    Three-fifths of them are boys. How many of the children are girls?\"\"\",\n",
    "    \"answer\": \"\"\"\"50 x 3/5 = <<50*3/5=30>>30 children are boys. \n",
    "    So, there are 50 - 30 = <<50-30=20>>20 children that are girls.\n",
    "    Answer: 20 \"\"\"\n",
    "}\n",
    "\n",
    "example_arm = {\n",
    "    \"question\" : \"\"\"Խնջույքին 50 երեխա կա։ Նրանց երեք հինգերորդը տղաներ են։\n",
    "    Երեխաներից քանիսն են աղջիկներ:\"\"\",\n",
    "    \"answer\": \"\"\"50 x 3/5 = <<50*3/5=30>>30 երեխան տղա է։\n",
    "    Այսպիսով, աղջիկների քանակը կլինի 50 - 30 = <<50-30=20>>20 աղջիկներ։ Պատասխան՝ 20\"\"\"\n",
    "}"
   ]
  },
  {
   "cell_type": "code",
   "execution_count": 23,
   "metadata": {},
   "outputs": [],
   "source": [
    "apply_one_shot_to_df(df, 'question', example_en, 'response_en_OS')\n",
    "apply_one_shot_to_df(df, 'question_arm', example_arm, 'response_arm_OS', language = \"Armenian\")"
   ]
  },
  {
   "cell_type": "markdown",
   "metadata": {},
   "source": [
    "# Few-Shot Prompting"
   ]
  },
  {
   "cell_type": "code",
   "execution_count": 28,
   "metadata": {},
   "outputs": [],
   "source": [
    "def few_shot_question(question, few_shot_examples, language=\"English\"):\n",
    "    \"\"\"\n",
    "    Executes a few-shot learning-based question answering with multiple examples provided, without using a passage.\n",
    "\n",
    "    Parameters:\n",
    "    - question (str): The question that needs answering.\n",
    "    - few_shot_examples (list of dicts): A list of examples, each containing a question and an answer to guide the model.\n",
    "    - language (str): The language in which the questions are written. Defaults to \"English\".\n",
    "\n",
    "    Returns:\n",
    "    - str: The extracted answer if available; otherwise, an error message.\n",
    "    \"\"\"\n",
    "    messages = [\n",
    "        {\"role\": \"system\", \"content\": f\"Answer the given question in {language}. Solve the given math problem and give the asnwer in form of the number. Be specific and short.\"}\n",
    "    ]\n",
    "\n",
    "    # Iterate through all provided examples\n",
    "    for example in few_shot_examples:\n",
    "        messages.extend([\n",
    "            {\"role\": \"assistant\", \"content\": example[\"question\"]},\n",
    "            {\"role\": \"assistant\", \"content\": example[\"answer\"]}\n",
    "        ])\n",
    "\n",
    "    messages.append({\"role\": \"assistant\", \"content\": question})\n",
    "    chat_response = chat_completion_request(messages)\n",
    "    assistant_message = chat_response[\"choices\"][0][\"message\"][\"content\"] \n",
    "    \n",
    "    return assistant_message"
   ]
  },
  {
   "cell_type": "code",
   "execution_count": 29,
   "metadata": {},
   "outputs": [],
   "source": [
    "def apply_few_shot_to_df(df, question_col, few_shot_examples, response_col, language=\"English\"):\n",
    "    \"\"\"\n",
    "    Applies few-shot question answering to specified question column of a DataFrame,\n",
    "    using a list of examples to guide the model, and stores the responses in a new column.\n",
    "\n",
    "    Parameters:\n",
    "    - df (pandas.DataFrame): The DataFrame containing the data.\n",
    "    - question_col (str): Name of the column containing the questions.\n",
    "    - few_shot_examples (list of dicts): A list of examples, each containing a question and answer.\n",
    "    - response_col (str): Name of the column where the responses will be stored.\n",
    "    - language (str, optional): The language in which the questions are written. Defaults to \"English\".\n",
    "\n",
    "    Returns:\n",
    "    - pandas.DataFrame: The updated DataFrame with responses added in a new column.\n",
    "    \"\"\"\n",
    "   \n",
    "    for index, row in df.iterrows():\n",
    "        response = few_shot_question(row[question_col], few_shot_examples, language)\n",
    "        df.at[index, response_col] = response\n",
    "\n",
    "    df.to_csv('Data/gsm8k.csv', index=False)"
   ]
  },
  {
   "cell_type": "code",
   "execution_count": 30,
   "metadata": {},
   "outputs": [],
   "source": [
    "few_shot_examples_en = [\n",
    "    {\"question\": \"\"\"Vlad is 6 feet, 3 inches tall. His younger sister is 2 feet, 10 inches tall. How many inches taller is Vlad than his sister?\"\"\", \n",
    "     \"answer\": \"\"\"\"Vlad = 6 ft * 12 in/ft + 3 = <<6*12+3=75>>75 inches․ Sister = 2 ft * 12 in/ft + 10 = <<2*12+10=34>>34 inches 75 - 34 = <<75-34=41>>41 inches․ Vlad is 41 inches taller than his sister. Answer: 41 \"\"\"},\n",
    "\n",
    "    {\"question\": \"\"\"James takes 5 oranges and breaks each orange into 8 pieces. He splits the pieces between 4 people. If an orange has 80 calories how many calories does each person get?\"\"\", \n",
    "     \"answer\": \"\"\"\"He makes 5*8=<<5*8=40>>40 pieces. So each person gets 40/4=<<40/4=10>>10 pieces. That means each person eats 10/8=<<10/8=1.25>>1.25 of an orange, so each person eats 80*1.25=<<80*1.25=100>>100 calories of orange. Answer: 100 \"\"\"},\n",
    "\n",
    "    {\"question\": \"\"\"Bob drove for one and a half hours at 60/mph. He then hit construction and drove for 2 hours at 45/mph. How many miles did Bob travel in those 3 and a half hours?\"\"\", \n",
    "     \"answer\": \"\"\"\"Bob drove for 1.5 hour * 60/mph = <<1.5*60=90>>90 miles․ Bod drove for 2 hour * 45/mph = <<2*45=90>>90 miles. In total Bob drove 90 + 90 miles = <<90+90=180>>180 miles. Answer: 180 \"\"\"}\n",
    "]\n",
    "\n",
    "few_shot_examples_arm = [\n",
    "    {\"question\": \"\"\"Վլադի հասակը 6 ֆուտ 3 դյույմ Է: Նրա կրտսեր քուրոջ հասակը 2 ֆուտ 10 դյույմ է: Քանի՞ դյույմ է բարձր Վլադը իր քրոջից:\"\"\", \n",
    "     \"answer\": \"\"\"Վլադը = 6 ft * 12 in/ft + 3 = <<6*12+3=75>>75 դյույմ: Քույր = 2 ֆտ * 12 դյույմ/ֆտ + 10 = <<2*12+10=34>>34 դյույմ: 75 - 34 = <<75-34=41>>41 դյույմ։ Վլադը քրոջից բարձր է 41 դյույմով:\n",
    "     Պատասխան՝ 41\"\"\"},\n",
    "\n",
    "    {\"question\": \"\"\"Ջեյմսը վերցնում է 5 նարինջ և յուրաքանչյուր նարինջը բաժանում է 8 կտորի։ Նա կտորները բաժանում է 4 հոգու միջև։ Եթե նարինջն ունի 80 կալորիա, քանի՞ կալորիա է ստանում յուրաքանչյուր մարդ:\"\"\", \n",
    "     \"answer\": \"\"\"Նա բաժանում է 5*8=<<5*8=40>>40 կտորի։ Այսպիսով, յուրաքանչյուր մարդ ստանում է 40/4=<<40/4=10>>10 հատ։ Դա նշանակում է, որ յուրաքանչյուր մարդ ուտում է 10/8=<<10/8=1,25>>1,25 նարինջ, ուստի յուրաքանչյուր մարդ ստանում է 80*1,25=<<80*1,25=100>>100 կալորիա։ \n",
    "     Պատասխան՝ 100\"\"\"},\n",
    "\n",
    "    {\"question\": \"\"\"Բոբը 1,5 ժամ քշեց 60/մ/ժ արագությամբ: Այնուհետև շինարարության պատճառով նա 2 ժամ քշեց 45/մ/ժ արագությամբ: Քանի՞ մղոն անցավ Բոբը այդ 3,5 ժամում:\"\"\", \n",
    "     \"answer\": \"\"\"Բոբը քշեց 1,5 ժամ * 60/մ/ժ = <<1,5*60=90>>90 մղոն․ Բոդը քշեց 2 ժամ * 45/մ/ժ = <<2*45=90>>90 մղոն։ Ընդհանուր առմամբ Բոբը քշեց 90 + 90 մղոն = <<90+90=180>>180 մղոն։\n",
    "    Պատասխան՝ 180\"\"\"}\n",
    "]"
   ]
  },
  {
   "cell_type": "code",
   "execution_count": 31,
   "metadata": {},
   "outputs": [],
   "source": [
    "apply_few_shot_to_df(df, \"question\", few_shot_examples_en, \"response_en_FS\")\n",
    "apply_few_shot_to_df(df, 'question_arm', few_shot_examples_arm, 'response_arm_FS', language = \"Armenian\")"
   ]
  },
  {
   "cell_type": "markdown",
   "metadata": {},
   "source": [
    "# Using Armenian as the language of system_message"
   ]
  },
  {
   "cell_type": "markdown",
   "metadata": {},
   "source": [
    "## Zero-Shot"
   ]
  },
  {
   "cell_type": "code",
   "execution_count": 33,
   "metadata": {},
   "outputs": [],
   "source": [
    "def zero_shot_question_arm(question):\n",
    "    \"\"\"\n",
    "    This function asks a zero-shot question based on the provided question.\n",
    "    \n",
    "    Args:\n",
    "    question (str): The question to ask.\n",
    "    \n",
    "    Returns:\n",
    "    str: The answer generated by the model.\n",
    "    \"\"\"\n",
    "    messages = []\n",
    "    messages.append({\n",
    "        \"role\": \"system\",\n",
    "        \"content\": \"Լուծիր տրված մաթեմատիկական խնդիրները և տուր պատասխանը թվի տեսքով։ Եղիր կոնկրետ և կարճ\"\n",
    "    })\n",
    "    messages.append({\n",
    "        \"role\": \"assistant\",\n",
    "        \"content\": question\n",
    "    })\n",
    "    chat_response = chat_completion_request(messages)\n",
    "    assistant_message = chat_response[\"choices\"][0][\"message\"][\"content\"] \n",
    "    return assistant_message"
   ]
  },
  {
   "cell_type": "code",
   "execution_count": 34,
   "metadata": {},
   "outputs": [],
   "source": [
    "def apply_zero_shot_to_df_arm(df, question_col, response_col):\n",
    "    \"\"\"\n",
    "    Applies zero-shot question answering to specified question columns of a DataFrame,\n",
    "    and stores the responses in a new column.\n",
    "\n",
    "    Parameters:\n",
    "    - df (pandas.DataFrame): The DataFrame containing the data.\n",
    "    - question_col (str): Name of the column containing the questions.\n",
    "    - response_col (str): Name of the column where the responses will be stored.\n",
    "    - language (str, optional): The language in which the questions are provided. Defaults to \"English\".\n",
    "    \"\"\"\n",
    "    for index, row in df.iterrows():\n",
    "        response = zero_shot_question_arm(row[question_col])\n",
    "        df.at[index, response_col] = response\n",
    "\n",
    "    \n",
    "    # Save the DataFrame after updating\n",
    "    df.to_csv('Data/gsm8k.csv', index=False)"
   ]
  },
  {
   "cell_type": "code",
   "execution_count": 35,
   "metadata": {},
   "outputs": [],
   "source": [
    "apply_zero_shot_to_df_arm(df, 'question_arm', 'response_arm_sys_ZS')"
   ]
  },
  {
   "cell_type": "markdown",
   "metadata": {},
   "source": [
    "## One-Shot"
   ]
  },
  {
   "cell_type": "code",
   "execution_count": 36,
   "metadata": {},
   "outputs": [],
   "source": [
    "def one_shot_question_arm(question, example):\n",
    "    \"\"\"\n",
    "    Executes a one-shot learning-based question answering with an example provided.\n",
    "\n",
    "    Parameters:\n",
    "    - question (str): The question that needs answering.\n",
    "    - example (dict): An example containing a question and answer to guide the model.\n",
    "    - language (str): The language in which the question is written. Defaults to \"English\".\n",
    "\n",
    "    Returns:\n",
    "    - str: The extracted answer if available; otherwise, an error message.\n",
    "    \"\"\"\n",
    "    messages = [\n",
    "        {\"role\": \"system\", \"content\": \"Լուծիր տրված մաթեմատիկական խնդիրները և տուր պատասխանը թվի տեսքով։ Եղիր կոնկրետ և կարճ:\"},\n",
    "        {\"role\": \"assistant\", \"content\": example[\"question\"]},\n",
    "        {\"role\": \"assistant\", \"content\": example[\"answer\"]},\n",
    "        {\"role\": \"assistant\", \"content\": question}\n",
    "    ]\n",
    "    chat_response = chat_completion_request(messages)\n",
    "    assistant_message = chat_response[\"choices\"][0][\"message\"][\"content\"] \n",
    "    return assistant_message"
   ]
  },
  {
   "cell_type": "code",
   "execution_count": 37,
   "metadata": {},
   "outputs": [],
   "source": [
    "def apply_one_shot_to_df_arm(df, question_col, example, response_col):\n",
    "    \"\"\"\n",
    "    Applies one-shot question answering to specified columns of a DataFrame,\n",
    "    using an example to guide the model, and stores the responses in a new column.\n",
    "\n",
    "    Parameters:\n",
    "    - df (pandas.DataFrame): The DataFrame containing the data.\n",
    "    - question_col (str): Name of the column containing the questions.\n",
    "    - example (dict): The example to guide the model.\n",
    "    - response_col (str): Name of the column where the responses will be stored.\n",
    "    - language (str, optional): The language in which the questions, passages, and examples are provided. Defaults to \"English\".\n",
    "    \"\"\"\n",
    "    for index, row in df.iterrows():\n",
    "        response = one_shot_question_arm(row[question_col], example)\n",
    "        df.at[index, response_col] = response\n",
    "\n",
    "    # Save the DataFrame after updating\n",
    "    df.to_csv('Data/gsm8k.csv', index=False)\n"
   ]
  },
  {
   "cell_type": "code",
   "execution_count": 38,
   "metadata": {},
   "outputs": [],
   "source": [
    "apply_one_shot_to_df_arm(df, 'question_arm', example_arm, 'response_arm_sys_OS')"
   ]
  },
  {
   "cell_type": "markdown",
   "metadata": {},
   "source": [
    "## Few-Shot"
   ]
  },
  {
   "cell_type": "code",
   "execution_count": 39,
   "metadata": {},
   "outputs": [],
   "source": [
    "def few_shot_question_arm(question, few_shot_examples):\n",
    "    \"\"\"\n",
    "    Executes a few-shot learning-based question answering with multiple examples provided, without using a passage.\n",
    "\n",
    "    Parameters:\n",
    "    - question (str): The question that needs answering.\n",
    "    - few_shot_examples (list of dicts): A list of examples, each containing a question and an answer to guide the model.\n",
    "    - language (str): The language in which the questions are written. Defaults to \"English\".\n",
    "\n",
    "    Returns:\n",
    "    - str: The extracted answer if available; otherwise, an error message.\n",
    "    \"\"\"\n",
    "    messages = [\n",
    "        {\"role\": \"system\", \"content\": \"Լուծիր տրված մաթեմատիկական խնդիրները և տուր պատասխանը թվի տեսքով։ Եղիր կոնկրետ և կարճ:\"}\n",
    "    ]\n",
    "\n",
    "    # Iterate through all provided examples\n",
    "    for example in few_shot_examples:\n",
    "        messages.extend([\n",
    "            {\"role\": \"assistant\", \"content\": example[\"question\"]},\n",
    "            {\"role\": \"assistant\", \"content\": example[\"answer\"]}\n",
    "        ])\n",
    "\n",
    "    messages.append({\"role\": \"assistant\", \"content\": question})\n",
    "    chat_response = chat_completion_request(messages)\n",
    "    assistant_message = chat_response[\"choices\"][0][\"message\"][\"content\"] \n",
    "    \n",
    "    return assistant_message"
   ]
  },
  {
   "cell_type": "code",
   "execution_count": 40,
   "metadata": {},
   "outputs": [],
   "source": [
    "def apply_few_shot_to_df_arm(df, question_col, few_shot_examples, response_col):\n",
    "    \"\"\"\n",
    "    Applies few-shot question answering to specified question column of a DataFrame,\n",
    "    using a list of examples to guide the model, and stores the responses in a new column.\n",
    "\n",
    "    Parameters:\n",
    "    - df (pandas.DataFrame): The DataFrame containing the data.\n",
    "    - question_col (str): Name of the column containing the questions.\n",
    "    - few_shot_examples (list of dicts): A list of examples, each containing a question and answer.\n",
    "    - response_col (str): Name of the column where the responses will be stored.\n",
    "    - language (str, optional): The language in which the questions are written. Defaults to \"English\".\n",
    "\n",
    "    Returns:\n",
    "    - pandas.DataFrame: The updated DataFrame with responses added in a new column.\n",
    "    \"\"\"\n",
    "   \n",
    "    for index, row in df.iterrows():\n",
    "        response = few_shot_question_arm(row[question_col], few_shot_examples)\n",
    "        df.at[index, response_col] = response\n",
    "\n",
    "    df.to_csv('Data/gsm8k.csv', index=False)"
   ]
  },
  {
   "cell_type": "code",
   "execution_count": 41,
   "metadata": {},
   "outputs": [],
   "source": [
    "apply_few_shot_to_df_arm(df, 'question_arm', few_shot_examples_arm, 'response_arm_sys_FS')"
   ]
  },
  {
   "cell_type": "markdown",
   "metadata": {},
   "source": [
    "# Calculating Setence Similarity Using BERT"
   ]
  },
  {
   "cell_type": "code",
   "execution_count": 42,
   "metadata": {},
   "outputs": [],
   "source": [
    "# Back-translated data using google sheets =GOOGLETRANSLATE() function\n",
    "# df = pd.read_csv(\"Data/gsm8k.csv\")"
   ]
  },
  {
   "cell_type": "code",
   "execution_count": 50,
   "metadata": {},
   "outputs": [],
   "source": [
    "def calculate_bert_similarity(sentence1, sentence2, tokenizer, model, device):\n",
    "    \"\"\"\n",
    "    Calculate the cosine similarity between two sentences using BERT embeddings.\n",
    "\n",
    "    Parameters:\n",
    "    - sentence1 (str): The first sentence.\n",
    "    - sentence2 (str): The second sentence.\n",
    "\n",
    "    Returns:\n",
    "    - float: The cosine similarity score between the two sentence embeddings.\n",
    "    \"\"\"\n",
    "    # Tokenize the sentences\n",
    "    encodings = tokenizer(\n",
    "        [sentence1, sentence2], \n",
    "        padding=True, \n",
    "        return_tensors='pt',\n",
    "        max_length =512,\n",
    "        truncation = True\n",
    "    ).to(device)\n",
    "\n",
    "    # Generate embeddings with no gradient calculations\n",
    "    with torch.no_grad():\n",
    "        outputs = model(**encodings)\n",
    "        embeddings = outputs.last_hidden_state[:, 0, :]\n",
    "\n",
    "    # Normalize the embeddings\n",
    "    normalized_embeddings = F.normalize(embeddings, p=2, dim=1)\n",
    "\n",
    "    # Compute cosine similarity as dot product of normalized embeddings\n",
    "    similarity = (normalized_embeddings[0] * normalized_embeddings[1]).sum().item() \n",
    "    return similarity"
   ]
  },
  {
   "cell_type": "code",
   "execution_count": 44,
   "metadata": {},
   "outputs": [],
   "source": [
    "def apply_bert_similarity(df, col1, col2, new_col_name):\n",
    "    \"\"\"\n",
    "    Apply BERT-based similarity calculation for two columns in a DataFrame and add results to a new column.\n",
    "\n",
    "    Parameters:\n",
    "    - df (DataFrame): The DataFrame containing the text columns.\n",
    "    - col1 (str): Column name for the first set of sentences.\n",
    "    - col2 (str): Column name for the second set of sentences.\n",
    "    - new_col_name (str): Column name for the similarity scores.\n",
    "    \"\"\"\n",
    "    # Load the BERT model and tokenizer\n",
    "    bert_version = 'bert-large-uncased'\n",
    "    tokenizer = BertTokenizer.from_pretrained(bert_version)\n",
    "    model = BertModel.from_pretrained(bert_version)\n",
    "    model.eval()\n",
    "    device = torch.device(\"cuda\" if torch.cuda.is_available() else \"cpu\")\n",
    "    model.to(device)\n",
    "\n",
    "    # Calculate similarities and add to DataFrame\n",
    "    df[new_col_name] = df.apply(lambda row: calculate_bert_similarity(row[col1], row[col2], tokenizer, model, device), axis=1)"
   ]
  },
  {
   "cell_type": "code",
   "execution_count": 46,
   "metadata": {},
   "outputs": [],
   "source": [
    "apply_bert_similarity(df, 'response_en_ZS', 'response_arm_ZS_BT', \"sim_response_ZS\")\n",
    "apply_bert_similarity(df, 'response_en_OS', 'response_arm_OS_BT', \"sim_response_OS\")\n",
    "apply_bert_similarity(df, 'response_en_FS', 'response_arm_FS_BT', \"sim_response_FS\")"
   ]
  },
  {
   "cell_type": "code",
   "execution_count": 51,
   "metadata": {},
   "outputs": [],
   "source": [
    "apply_bert_similarity(df, 'response_en_ZS', 'response_arm_sys_ZS_BT', \"sim_response_arm_sys_ZS\")\n",
    "apply_bert_similarity(df, 'response_en_OS', 'response_arm_sys_OS_BT', \"sim_response_arm_sys_OS\")\n",
    "apply_bert_similarity(df, 'response_en_FS', 'response_arm_sys_FS_BT', \"sim_response_arm_sys_FS\")"
   ]
  },
  {
   "cell_type": "code",
   "execution_count": 54,
   "metadata": {},
   "outputs": [],
   "source": [
    "apply_bert_similarity(df, 'response_en_ZS', 'answer_text', \"sim_response_en_reference_ZS\")\n",
    "apply_bert_similarity(df, 'response_en_OS', 'answer_text', \"sim_response_en_reference_OS\")\n",
    "apply_bert_similarity(df, 'response_en_FS', 'answer_text', \"sim_response_en_reference_FS\")\n",
    "apply_bert_similarity(df, 'response_arm_ZS_BT', 'answer_text', \"sim_response_arm_reference_ZS\")\n",
    "apply_bert_similarity(df, 'response_arm_OS_BT', 'answer_text', \"sim_response_arm_reference_OS\")\n",
    "apply_bert_similarity(df, 'response_arm_FS_BT', 'answer_text', \"sim_response_arm_reference_FS\")"
   ]
  },
  {
   "cell_type": "code",
   "execution_count": null,
   "metadata": {},
   "outputs": [],
   "source": [
    "df.to_csv(\"Data/gsm8k.csv\")"
   ]
  },
  {
   "cell_type": "markdown",
   "metadata": {},
   "source": [
    "# Similarity Statistics"
   ]
  },
  {
   "cell_type": "code",
   "execution_count": 55,
   "metadata": {},
   "outputs": [
    {
     "name": "stdout",
     "output_type": "stream",
     "text": [
      "English-Armenian Similarity Statistics:\n",
      "       sim_response_ZS  sim_response_OS  sim_response_FS\n",
      "count        50.000000        50.000000        50.000000\n",
      "mean          0.603301         0.813526         0.861627\n",
      "std           0.251445         0.153629         0.087617\n",
      "min           0.081678         0.260318         0.504701\n",
      "25%           0.331526         0.768736         0.835523\n",
      "50%           0.636428         0.862230         0.883544\n",
      "75%           0.819333         0.911136         0.915751\n",
      "max           0.984694         0.967692         0.962950\n",
      "\n",
      "English-Armenian Similarity Statistics (Sys lang Arm):\n",
      "       sim_response_arm_sys_ZS  sim_response_arm_sys_OS  \\\n",
      "count                50.000000                50.000000   \n",
      "mean                  0.647247                 0.841597   \n",
      "std                   0.139051                 0.100389   \n",
      "min                   0.241012                 0.488324   \n",
      "25%                   0.540590                 0.830151   \n",
      "50%                   0.679853                 0.872253   \n",
      "75%                   0.742839                 0.909354   \n",
      "max                   0.903946                 0.947494   \n",
      "\n",
      "       sim_response_arm_sys_FS  \n",
      "count                50.000000  \n",
      "mean                  0.872606  \n",
      "std                   0.064677  \n",
      "min                   0.561610  \n",
      "25%                   0.843088  \n",
      "50%                   0.885123  \n",
      "75%                   0.914698  \n",
      "max                   0.955648  \n",
      "\n",
      "Reference-Based Responses Statistics:\n",
      "       sim_response_en_reference_ZS  sim_response_en_reference_OS  \\\n",
      "count                     50.000000                     50.000000   \n",
      "mean                       0.671178                      0.878155   \n",
      "std                        0.123043                      0.083006   \n",
      "min                        0.367840                      0.582588   \n",
      "25%                        0.585966                      0.848859   \n",
      "50%                        0.672576                      0.906341   \n",
      "75%                        0.749285                      0.930067   \n",
      "max                        0.938440                      0.975877   \n",
      "\n",
      "       sim_response_en_reference_FS  sim_response_arm_reference_ZS  \\\n",
      "count                     50.000000                      50.000000   \n",
      "mean                       0.878657                       0.519262   \n",
      "std                        0.065646                       0.228890   \n",
      "min                        0.670474                       0.087072   \n",
      "25%                        0.852091                       0.338907   \n",
      "50%                        0.897905                       0.578125   \n",
      "75%                        0.922272                       0.690229   \n",
      "max                        0.976822                       0.938294   \n",
      "\n",
      "       sim_response_arm_reference_OS  sim_response_arm_reference_FS  \n",
      "count                      50.000000                      50.000000  \n",
      "mean                        0.760103                       0.832791  \n",
      "std                         0.154664                       0.098532  \n",
      "min                         0.270599                       0.524349  \n",
      "25%                         0.695773                       0.784215  \n",
      "50%                         0.797831                       0.862980  \n",
      "75%                         0.859628                       0.902748  \n",
      "max                         0.961109                       0.977103  \n"
     ]
    }
   ],
   "source": [
    "english_responses = ['sim_response_ZS', 'sim_response_OS', 'sim_response_FS']\n",
    "armenian_sys_language = ['sim_response_arm_sys_ZS', 'sim_response_arm_sys_OS', 'sim_response_arm_sys_FS']\n",
    "reference_based = ['sim_response_en_reference_ZS', 'sim_response_en_reference_OS', 'sim_response_en_reference_FS',\n",
    "                   'sim_response_arm_reference_ZS', 'sim_response_arm_reference_OS', 'sim_response_arm_reference_FS']\n",
    "\n",
    "# Generate descriptive statistics\n",
    "english_stats = df[english_responses].describe()\n",
    "armenian_sys_stats = df[armenian_sys_language].describe()\n",
    "reference_based_stats = df[reference_based].describe()\n",
    "\n",
    "# Print the statistics to review them\n",
    "print(\"English-Armenian Similarity Statistics:\")\n",
    "print(english_stats)\n",
    "print(\"\\nEnglish-Armenian Similarity Statistics (Sys lang Arm):\")\n",
    "print(armenian_sys_stats)\n",
    "print(\"\\nReference-Based Responses Statistics:\")\n",
    "print(reference_based_stats)"
   ]
  },
  {
   "cell_type": "code",
   "execution_count": 57,
   "metadata": {},
   "outputs": [
    {
     "data": {
      "image/png": "[encoded data removed]",
      "text/plain": [
       "<Figure size 800x500 with 1 Axes>"
      ]
     },
     "metadata": {},
     "output_type": "display_data"
    }
   ],
   "source": [
    "plt.figure(figsize=(8, 5))\n",
    "plt.boxplot([df['sim_response_ZS'], df['sim_response_OS'], df['sim_response_FS']],\n",
    "            labels=['ZS', 'OS', 'FS'], vert=False,\n",
    "            medianprops=dict(color='red')) \n",
    "plt.title('BERT Similarity Scores for English and Armenian Responses')\n",
    "plt.xlabel('Similarity Score')\n",
    "plt.ylabel('Response Types')\n",
    "plt.savefig('bert_score_gsm8k_1.png')\n",
    "plt.show()"
   ]
  },
  {
   "cell_type": "code",
   "execution_count": 58,
   "metadata": {},
   "outputs": [
    {
     "data": {
      "image/png": "[encoded data removed]",
      "text/plain": [
       "<Figure size 800x500 with 1 Axes>"
      ]
     },
     "metadata": {},
     "output_type": "display_data"
    }
   ],
   "source": [
    "plt.figure(figsize=(8, 5))\n",
    "plt.boxplot([df['sim_response_arm_sys_ZS'], df['sim_response_arm_sys_OS'], df['sim_response_arm_sys_FS']],\n",
    "            labels=['ZS', 'OS', 'FS'], vert=False,\n",
    "            medianprops=dict(color='red')) \n",
    "plt.title('BERT Similarity Scores for English and Armenian Responses (System Language Armenian)')\n",
    "plt.xlabel('Similarity Score')\n",
    "plt.ylabel('Response Types')\n",
    "plt.savefig('bert_score_gsm8k_2.png')\n",
    "plt.show()"
   ]
  },
  {
   "cell_type": "code",
   "execution_count": 60,
   "metadata": {},
   "outputs": [
    {
     "data": {
      "image/png": "[encoded data removed]",
      "text/plain": [
       "<Figure size 1200x600 with 1 Axes>"
      ]
     },
     "metadata": {},
     "output_type": "display_data"
    }
   ],
   "source": [
    "plt.figure(figsize=(12, 6))\n",
    "plt.boxplot([df['sim_response_en_reference_ZS'],\n",
    "    df['sim_response_en_reference_OS'],\n",
    "    df['sim_response_en_reference_FS'],\n",
    "    df['sim_response_arm_reference_ZS'],\n",
    "    df['sim_response_arm_reference_OS'],\n",
    "    df['sim_response_arm_reference_FS']], \n",
    "    labels=['EN ZS', 'EN OS', 'EN FS', 'ARM ZS', 'ARM OS', 'ARM FS'],\n",
    "    vert=True,\n",
    "    medianprops=dict(color='red')  \n",
    ")\n",
    "\n",
    "plt.title('BERT Similarity Scores for Generated Answers Reference-Based')\n",
    "plt.xlabel('Response Types')\n",
    "plt.ylabel('Similarity Score')\n",
    "plt.savefig('bert_score_gsm8k_3.png')\n",
    "plt.show()\n"
   ]
  }
 ],
 "metadata": {
  "kernelspec": {
   "display_name": "Python 3",
   "language": "python",
   "name": "python3"
  },
  "language_info": {
   "codemirror_mode": {
    "name": "ipython",
    "version": 3
   },
   "file_extension": ".py",
   "mimetype": "text/x-python",
   "name": "python",
   "nbconvert_exporter": "python",
   "pygments_lexer": "ipython3",
   "version": "3.11.1"
  }
 },
 "nbformat": 4,
 "nbformat_minor": 2
}
