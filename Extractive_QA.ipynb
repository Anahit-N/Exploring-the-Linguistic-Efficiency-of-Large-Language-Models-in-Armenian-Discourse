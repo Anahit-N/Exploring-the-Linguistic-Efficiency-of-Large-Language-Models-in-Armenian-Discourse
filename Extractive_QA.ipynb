{
 "cells": [
  {
   "cell_type": "code",
   "execution_count": 2,
   "metadata": {},
   "outputs": [],
   "source": [
    "import matplotlib.pyplot as plt\n",
    "import pandas as pd\n",
    "import requests\n",
    "\n",
    "import openai\n",
    "from tenacity import retry, stop_after_attempt, wait_random_exponential\n",
    "\n",
    "from nltk.translate.bleu_score import sentence_bleu\n",
    "from nltk.tokenize import word_tokenize\n",
    "\n",
    "import warnings\n",
    "warnings.filterwarnings(\"ignore\")\n",
    "\n",
    "from transformers import BertTokenizer, BertModel\n",
    "from sklearn.metrics.pairwise import cosine_similarity\n",
    "import torch.nn.functional as F\n",
    "import torch"
   ]
  },
  {
   "cell_type": "code",
   "execution_count": 4,
   "metadata": {},
   "outputs": [
    {
     "data": {
      "text/html": [
       "<div>\n",
       "<style scoped>\n",
       "    .dataframe tbody tr th:only-of-type {\n",
       "        vertical-align: middle;\n",
       "    }\n",
       "\n",
       "    .dataframe tbody tr th {\n",
       "        vertical-align: top;\n",
       "    }\n",
       "\n",
       "    .dataframe thead th {\n",
       "        text-align: right;\n",
       "    }\n",
       "</style>\n",
       "<table border=\"1\" class=\"dataframe\">\n",
       "  <thead>\n",
       "    <tr style=\"text-align: right;\">\n",
       "      <th></th>\n",
       "      <th>title</th>\n",
       "      <th>context</th>\n",
       "      <th>question</th>\n",
       "      <th>answers</th>\n",
       "      <th>reference</th>\n",
       "      <th>context_arm_GT</th>\n",
       "      <th>context_arm_BT_GT</th>\n",
       "      <th>question_arm_GT</th>\n",
       "      <th>question_arm_BT_GT</th>\n",
       "      <th>reference_arm_GT</th>\n",
       "      <th>reference_arm_BT_GT</th>\n",
       "    </tr>\n",
       "  </thead>\n",
       "  <tbody>\n",
       "    <tr>\n",
       "      <th>0</th>\n",
       "      <td>Institute_of_technology</td>\n",
       "      <td>The world's first institution of technology or...</td>\n",
       "      <td>What year was the Banská Akadémia founded?</td>\n",
       "      <td>{'text': array(['1735'], dtype=object), 'answe...</td>\n",
       "      <td>1735</td>\n",
       "      <td>Աշխարհի առաջին տեխնոլոգիական կամ բարձրագույն տ...</td>\n",
       "      <td>The world's first university of technological ...</td>\n",
       "      <td>Ո՞ր թվականին է հիմնադրվել Բանսկայի Ակադեմիան:</td>\n",
       "      <td>In what year was Banska Academy founded?</td>\n",
       "      <td>1735 թ</td>\n",
       "      <td>1735</td>\n",
       "    </tr>\n",
       "    <tr>\n",
       "      <th>1</th>\n",
       "      <td>Film_speed</td>\n",
       "      <td>The standard specifies how speed ratings shoul...</td>\n",
       "      <td>What is another speed that can also be reporte...</td>\n",
       "      <td>{'text': array(['SOS-based speed'], dtype=obje...</td>\n",
       "      <td>SOS-based speed</td>\n",
       "      <td>Ստանդարտը սահմանում է, թե ինչպես պետք է արագու...</td>\n",
       "      <td>The standard specifies how speed ratings shoul...</td>\n",
       "      <td>Ո՞րն է մեկ այլ արագություն, որը կարող է նաև հա...</td>\n",
       "      <td>What is another speed that can also be reporte...</td>\n",
       "      <td>SOS-ի վրա հիմնված արագություն</td>\n",
       "      <td>SOS based speed</td>\n",
       "    </tr>\n",
       "    <tr>\n",
       "      <th>2</th>\n",
       "      <td>Sumer</td>\n",
       "      <td>The most impressive and famous of Sumerian bui...</td>\n",
       "      <td>Where were the use of advanced materials and t...</td>\n",
       "      <td>{'text': array(['Sumerian temples and palaces'...</td>\n",
       "      <td>Sumerian temples and palaces</td>\n",
       "      <td>Շումերական շինություններից ամենատպավորիչն ու ն...</td>\n",
       "      <td>The most impressive and notable of the Sumeria...</td>\n",
       "      <td>Որտե՞ղ էին Շումերում ցուցադրված առաջադեմ նյութ...</td>\n",
       "      <td>Where was the use of advanced materials and te...</td>\n",
       "      <td>Շումերական տաճարներ և պալատներ</td>\n",
       "      <td>Sumerian temples and palaces</td>\n",
       "    </tr>\n",
       "  </tbody>\n",
       "</table>\n",
       "</div>"
      ],
      "text/plain": [
       "                     title                                            context  \\\n",
       "0  Institute_of_technology  The world's first institution of technology or...   \n",
       "1               Film_speed  The standard specifies how speed ratings shoul...   \n",
       "2                    Sumer  The most impressive and famous of Sumerian bui...   \n",
       "\n",
       "                                            question  \\\n",
       "0         What year was the Banská Akadémia founded?   \n",
       "1  What is another speed that can also be reporte...   \n",
       "2  Where were the use of advanced materials and t...   \n",
       "\n",
       "                                             answers  \\\n",
       "0  {'text': array(['1735'], dtype=object), 'answe...   \n",
       "1  {'text': array(['SOS-based speed'], dtype=obje...   \n",
       "2  {'text': array(['Sumerian temples and palaces'...   \n",
       "\n",
       "                      reference  \\\n",
       "0                          1735   \n",
       "1               SOS-based speed   \n",
       "2  Sumerian temples and palaces   \n",
       "\n",
       "                                      context_arm_GT  \\\n",
       "0  Աշխարհի առաջին տեխնոլոգիական կամ բարձրագույն տ...   \n",
       "1  Ստանդարտը սահմանում է, թե ինչպես պետք է արագու...   \n",
       "2  Շումերական շինություններից ամենատպավորիչն ու ն...   \n",
       "\n",
       "                                   context_arm_BT_GT  \\\n",
       "0  The world's first university of technological ...   \n",
       "1  The standard specifies how speed ratings shoul...   \n",
       "2  The most impressive and notable of the Sumeria...   \n",
       "\n",
       "                                     question_arm_GT  \\\n",
       "0      Ո՞ր թվականին է հիմնադրվել Բանսկայի Ակադեմիան:   \n",
       "1  Ո՞րն է մեկ այլ արագություն, որը կարող է նաև հա...   \n",
       "2  Որտե՞ղ էին Շումերում ցուցադրված առաջադեմ նյութ...   \n",
       "\n",
       "                                  question_arm_BT_GT  \\\n",
       "0           In what year was Banska Academy founded?   \n",
       "1  What is another speed that can also be reporte...   \n",
       "2  Where was the use of advanced materials and te...   \n",
       "\n",
       "                 reference_arm_GT           reference_arm_BT_GT  \n",
       "0                          1735 թ                          1735  \n",
       "1   SOS-ի վրա հիմնված արագություն               SOS based speed  \n",
       "2  Շումերական տաճարներ և պալատներ  Sumerian temples and palaces  "
      ]
     },
     "execution_count": 4,
     "metadata": {},
     "output_type": "execute_result"
    }
   ],
   "source": [
    "# Read CSV file\n",
    "df = pd.read_csv(\"Data/squad.csv\")\n",
    "df.head(3)"
   ]
  },
  {
   "cell_type": "code",
   "execution_count": 3,
   "metadata": {},
   "outputs": [],
   "source": [
    "# Read the API key from the file\n",
    "with open('api_key.txt', 'r') as file:\n",
    "    api_key = file.read().strip()\n",
    "\n",
    "# Set the API key in the OpenAI library\n",
    "openai.api_key = api_key\n",
    "\n",
    "# Define the model to use\n",
    "GPT_MODEL = \"gpt-3.5-turbo-0613\""
   ]
  },
  {
   "cell_type": "code",
   "execution_count": 5,
   "metadata": {},
   "outputs": [],
   "source": [
    "@retry(wait=wait_random_exponential(multiplier=1, max=40), stop=stop_after_attempt(3))\n",
    "def chat_completion_request(messages, tools=None, tool_choice=None, model = GPT_MODEL):\n",
    "    \"\"\"\n",
    "    Sends request to the OpenAI API to generate chat completions based on the provided messages.\n",
    "\n",
    "    Parameters:\n",
    "    - messages (list): A list of message dictionaries to be sent to the chat completion model.\n",
    "    - tools (list, optional): A list of tools that can be utilized for generating completions.\n",
    "    - tool_choice (str, optional): A specific tool choice to influence the completion generation.\n",
    "    - model (str): The model to be used for generating completions.\n",
    "\n",
    "    Returns:\n",
    "    - dict: The JSON response from the API containing the completion if the request is successful.\n",
    "\n",
    "    Raises:\n",
    "    - Exception: If the request fails after the maximum number of retry attempts, it raises and\n",
    "      returns the exception, and prints an error message to the console.\n",
    "    \"\"\"\n",
    "    headers = {\n",
    "        \"Content-Type\": \"application/json\",\n",
    "        \"Authorization\": \"Bearer \" + openai.api_key,\n",
    "    }\n",
    "    json_data = {\"model\": model, \"messages\": messages}\n",
    "\n",
    "    if tools is not None:\n",
    "        json_data.update({\"tools\": tools})\n",
    "    if tool_choice is not None:\n",
    "        json_data.update({\"tool_choice\": tool_choice})\n",
    "        \n",
    "    try:\n",
    "        response = requests.post(\n",
    "            \"https://api.openai.com/v1/chat/completions\",\n",
    "            headers=headers,\n",
    "            json=json_data,\n",
    "        )\n",
    "        return response.json() \n",
    "    except Exception as e:\n",
    "        print(\"Unable to generate ChatCompletion response\")\n",
    "        print(f\"Exception: {e}\")\n",
    "        return e"
   ]
  },
  {
   "cell_type": "markdown",
   "metadata": {},
   "source": [
    "# Translationions"
   ]
  },
  {
   "cell_type": "markdown",
   "metadata": {},
   "source": [
    "## Google Translate"
   ]
  },
  {
   "cell_type": "code",
   "execution_count": 8,
   "metadata": {},
   "outputs": [],
   "source": [
    "def calculate_bleu(reference_text, candidate_text):\n",
    "    \"\"\"\n",
    "    Calculate the BLEU score for a candidate text given a reference text.\n",
    "\n",
    "    Parameters:\n",
    "    - reference_text (str): The reference text against which the candidate is evaluated.\n",
    "    - candidate_text (str): The candidate text that is being evaluated.\n",
    "\n",
    "    Returns:\n",
    "    - float: The BLEU score for the candidate text.\n",
    "    \"\"\"\n",
    "    reference = word_tokenize(reference_text.lower())\n",
    "    candidate = word_tokenize(candidate_text.lower())\n",
    "    return sentence_bleu([reference], candidate)"
   ]
  },
  {
   "cell_type": "code",
   "execution_count": 29,
   "metadata": {},
   "outputs": [],
   "source": [
    "# Calculating BLEU score for the given columns\n",
    "df['BLEU_score_GT_context'] = df.apply(lambda row: calculate_bleu(row['context'], row['context_arm_BT_GT']), axis=1)\n",
    "df['BLEU_score_GT_question'] = df.apply(lambda row: calculate_bleu(row['question'], row['question_arm_BT_GT']), axis=1)\n",
    "df['BLEU_score_GT_reference'] = df.apply(lambda row: calculate_bleu(row['reference'], row['reference_arm_BT_GT']), axis=1)"
   ]
  },
  {
   "cell_type": "code",
   "execution_count": 30,
   "metadata": {},
   "outputs": [
    {
     "name": "stdout",
     "output_type": "stream",
     "text": [
      "       Context  Question\n",
      "count    50.00     50.00\n",
      "mean      0.61      0.55\n",
      "std       0.09      0.30\n",
      "min       0.34      0.00\n",
      "25%       0.54      0.40\n",
      "50%       0.61      0.58\n",
      "75%       0.66      0.73\n",
      "max       0.83      1.00\n"
     ]
    }
   ],
   "source": [
    "# Calculate summary statistics for each column\n",
    "stats_context_GT = df['BLEU_score_GT_context'].describe()\n",
    "stats_question_GT = df['BLEU_score_GT_question'].describe()\n",
    "\n",
    "stats_df_GT = pd.DataFrame({\n",
    "    'Context': stats_context_GT.round(2),\n",
    "    'Question': stats_question_GT.round(2)\n",
    "})\n",
    "\n",
    "print(stats_df_GT)"
   ]
  },
  {
   "cell_type": "markdown",
   "metadata": {},
   "source": [
    "## GPT Translation"
   ]
  },
  {
   "cell_type": "code",
   "execution_count": 17,
   "metadata": {},
   "outputs": [],
   "source": [
    "def translate(source_text, target_language):\n",
    "    \"\"\"\n",
    "    Constructs a request for translation from source text into target language.\n",
    "\n",
    "    Parameters:\n",
    "    - source_text (str): The text to be translated.\n",
    "    - target_language (str): The language into which the text should be translated.\n",
    "\n",
    "    Returns:\n",
    "    - str: The translated text as generated by the chat completion system.\n",
    "    \"\"\"\n",
    "    system_message = \"You are a helpful assistant.\"\n",
    "    user_message = (\n",
    "        f\"Translate the following text into {target_language}.\\n\"\n",
    "        \"Keep the structure of the original text and preserve things like code and names.\\n\"\n",
    "        \"Please ensure that your response contains only the translated text.\\n\"\n",
    "        \"The translation must convey the same meaning as the original and be natural for native speakers with correct grammar and proper word choices.\\n\"\n",
    "        \"Your translation must also use exact terminology to provide accurate information even for the experts in the related fields.\\n\"\n",
    "        f\"Original: {source_text}\\n\"\n",
    "        f\"Translation into {target_language}:\"\n",
    "    )\n",
    "    \n",
    "    messages = []\n",
    "    messages.append({\"role\": \"system\", \"content\": system_message})\n",
    "    messages.append({\"role\": \"assistant\", \"content\": user_message})\n",
    "    \n",
    "    chat_response = chat_completion_request(messages)\n",
    "    assistant_message = chat_response[\"choices\"][0][\"message\"][\"content\"] \n",
    "    return assistant_message"
   ]
  },
  {
   "cell_type": "code",
   "execution_count": 18,
   "metadata": {},
   "outputs": [],
   "source": [
    "def translate_df_column(df, column_name, target_language, new_column_name):\n",
    "    \"\"\"\n",
    "    Translates text in a specified column of a DataFrame to a given target language.\n",
    "\n",
    "    This function iterates through the DataFrame, translates each text in the specified column,\n",
    "    and stores the translations in a new column. Finally, it saves the updated DataFrame\n",
    "    to a CSV file.\n",
    "\n",
    "    Parameters:\n",
    "    - df (pandas.DataFrame): The DataFrame containing text to translate.\n",
    "    - column_name (str): Name of the column with texts to translate.\n",
    "    - target_language (str): The language into which texts should be translated.\n",
    "    - new_column_name (str): The name for the new column to store translated texts.\n",
    "    \"\"\"\n",
    "    for index, row in df.iterrows():\n",
    "        source_text = row[column_name]\n",
    "        translation = translate(source_text, target_language)\n",
    "        df.at[index, new_column_name] = translation\n",
    "\n",
    "    df.to_csv('Data/squad.csv', index=False)"
   ]
  },
  {
   "cell_type": "code",
   "execution_count": 19,
   "metadata": {},
   "outputs": [],
   "source": [
    "translate_df_column(df, 'context', 'Armenian', 'context_arm_gpt')\n",
    "translate_df_column(df, 'question', 'Armenian', 'question_arm_gpt')"
   ]
  },
  {
   "cell_type": "code",
   "execution_count": 21,
   "metadata": {},
   "outputs": [],
   "source": [
    "translate_df_column(df, 'context_arm_gpt', 'English', 'context_arm_BT_gpt')\n",
    "translate_df_column(df, 'question_arm_gpt', 'English', 'question_arm_BT_gpt')"
   ]
  },
  {
   "cell_type": "code",
   "execution_count": 31,
   "metadata": {},
   "outputs": [],
   "source": [
    "# BLEU score for GPT translation\n",
    "df['BLEU_score_gpt_context'] = df.apply(lambda row: calculate_bleu(row['context'], row['context_arm_BT_gpt']), axis=1)\n",
    "df['BLEU_score_gpt_question'] = df.apply(lambda row: calculate_bleu(row['question'], row['question_arm_BT_gpt']), axis=1)"
   ]
  },
  {
   "cell_type": "code",
   "execution_count": 32,
   "metadata": {},
   "outputs": [
    {
     "name": "stdout",
     "output_type": "stream",
     "text": [
      "       Context  Question\n",
      "count    50.00     50.00\n",
      "mean      0.09      0.06\n",
      "std       0.08      0.18\n",
      "min       0.00      0.00\n",
      "25%       0.03      0.00\n",
      "50%       0.08      0.00\n",
      "75%       0.15      0.00\n",
      "max       0.33      1.00\n"
     ]
    }
   ],
   "source": [
    "# Calculate summary statistics for each column\n",
    "stats_context_gpt = df['BLEU_score_gpt_context'].describe()\n",
    "stats_question_gpt = df['BLEU_score_gpt_question'].describe()\n",
    "\n",
    "stats_df_gpt = pd.DataFrame({\n",
    "    'Context': stats_context_gpt.round(2),\n",
    "    'Question': stats_question_gpt.round(2)\n",
    "})\n",
    "\n",
    "print(stats_df_gpt)"
   ]
  },
  {
   "cell_type": "code",
   "execution_count": 8,
   "metadata": {},
   "outputs": [],
   "source": [
    "# Prepare DataFrame for plotting\n",
    "data_for_plotting = pd.DataFrame({\n",
    "    'GT Context': df['BLEU_score_GT_context'],\n",
    "    'GT Question': df['BLEU_score_GT_question'],\n",
    "    'GPT Context': df['BLEU_score_gpt_context'],\n",
    "    'GPT Question': df['BLEU_score_gpt_question']\n",
    "})"
   ]
  },
  {
   "cell_type": "code",
   "execution_count": 9,
   "metadata": {},
   "outputs": [
    {
     "data": {
      "image/png": "[encoded data removed]",
      "text/plain": [
       "<Figure size 1000x600 with 1 Axes>"
      ]
     },
     "metadata": {},
     "output_type": "display_data"
    }
   ],
   "source": [
    "# Boxplot of BLEU Scores Comparison\n",
    "plt.figure(figsize=(10, 6))\n",
    "plt.boxplot(data_for_plotting.values, labels=data_for_plotting.columns,\n",
    "            medianprops=dict(color='red'))\n",
    "plt.title('BLEU Scores Comparison')\n",
    "plt.ylabel('BLEU Score')\n",
    "plt.savefig('bleu_score_statistics.png')\n",
    "plt.show()"
   ]
  },
  {
   "cell_type": "markdown",
   "metadata": {},
   "source": [
    "# Zero-Shot Prompting"
   ]
  },
  {
   "cell_type": "code",
   "execution_count": 60,
   "metadata": {},
   "outputs": [],
   "source": [
    "def zero_shot_question(passage, question, language=\"English\"):\n",
    "    \"\"\"\n",
    "    Request an answer to a specified question based on a given text passage in a specified language.\n",
    "\n",
    "    Parameters:\n",
    "    - passage (str): The text passage from which the answer should be extracted.\n",
    "    - question (str): The question for which an answer is sought.\n",
    "    - language (str, optional): The language in which the question and passage are written. Defaults to \"English\".\n",
    "\n",
    "    Returns:\n",
    "    - str: The extracted answer if available; otherwise, an error message.\n",
    "\n",
    "    Raises:\n",
    "    - Exception: Outputs an error message to the console if the response structure is unexpected.\n",
    "    \"\"\"\n",
    "    system_message = f\"Answer the question from the given passage in {language}. Your answer should be directly extracted from the passage, and it should be a single entity, name, or number, not a sentence.\"\n",
    "    messages = [\n",
    "        {\"role\": \"system\", \"content\": system_message},\n",
    "        {\"role\": \"user\", \"content\": passage},\n",
    "        {\"role\": \"assistant\", \"content\": question}\n",
    "    ]\n",
    "    \n",
    "    try:\n",
    "        chat_response = chat_completion_request(messages)\n",
    "        if 'choices' in chat_response and len(chat_response['choices']) > 0:\n",
    "            assistant_message = chat_response['choices'][0].get('message', {}).get('content', '')\n",
    "            return assistant_message\n",
    "        else:\n",
    "            raise ValueError(\"Error: 'choices' not found or empty in the response.\")\n",
    "    except Exception as e:\n",
    "        print(f\"Error processing the request: {e}\")\n",
    "        print(\"Passage:\", passage)\n",
    "        print(\"Question:\", question)\n",
    "        return \"Error in processing the response\"\n"
   ]
  },
  {
   "cell_type": "code",
   "execution_count": 61,
   "metadata": {},
   "outputs": [],
   "source": [
    "def apply_zero_shot_to_df(df, context_col, question_col, response_col, language=\"English\"):\n",
    "    \"\"\"\n",
    "    Applies zero-shot question answering to specified context and question columns of a DataFrame,\n",
    "    and stores the responses in a new column.\n",
    "\n",
    "    Parameters:\n",
    "    - df (pandas.DataFrame): The DataFrame containing the data.\n",
    "    - context_col (str): Name of the column containing the context.\n",
    "    - question_col (str): Name of the column containing the questions.\n",
    "    - response_col (str): Name of the column where the responses will be stored.\n",
    "    - language (str, optional): The language in which the questions and contexts are provided. Defaults to \"English\".\n",
    "    \"\"\"\n",
    "    for index, row in df.iterrows():\n",
    "        response = zero_shot_question(row[context_col], row[question_col], language)\n",
    "        df.at[index, response_col] = response\n",
    "\n",
    "    # Save the DataFrame after updating\n",
    "    df.to_csv('Data/squad.csv', index=False)"
   ]
  },
  {
   "cell_type": "code",
   "execution_count": 62,
   "metadata": {},
   "outputs": [],
   "source": [
    "apply_zero_shot_to_df(df, 'context', 'question', 'response_en_ZS')\n",
    "apply_zero_shot_to_df(df, 'context_arm_GT', 'question_arm_GT', 'response_arm_ZS', language='Armenian')"
   ]
  },
  {
   "cell_type": "markdown",
   "metadata": {},
   "source": [
    "# One-Shot Prompting"
   ]
  },
  {
   "cell_type": "code",
   "execution_count": 64,
   "metadata": {},
   "outputs": [],
   "source": [
    "def one_shot_question(passage, question, example, language=\"English\"):\n",
    "    \"\"\"\n",
    "    Executes a one-shot learning-based question answering with an example provided.\n",
    "\n",
    "    Parameters:\n",
    "    - passage (str): The text from which the answer should be derived.\n",
    "    - question (str): The question that needs answering.\n",
    "    - example (dict): An example containing a passage, question, and answer to guide the model.\n",
    "    - language (str): The language in which the question and passage are written. Defaults to \"English\".\n",
    "    \n",
    "    Returns:\n",
    "    - str: The extracted answer if available; otherwise, an error message.\n",
    "    \"\"\"\n",
    "    system_message = f\"Answer the question from the given passage in {language}. Your answer should be directly extracted from the passage, and it should be a single entity, name, or number, not a sentence.\"\n",
    "    messages = [\n",
    "        {\"role\": \"system\", \"content\": system_message},\n",
    "        {\"role\": \"user\", \"content\": example[\"passage\"]},\n",
    "        {\"role\": \"assistant\", \"content\": example[\"question\"]},\n",
    "        {\"role\": \"assistant\", \"content\": example[\"answer\"]},\n",
    "        {\"role\": \"user\", \"content\": passage},\n",
    "        {\"role\": \"assistant\", \"content\": question}\n",
    "    ]\n",
    "    chat_response = chat_completion_request(messages)\n",
    "\n",
    "    if 'choices' in chat_response and len(chat_response['choices']) > 0:\n",
    "        return chat_response['choices'][0].get('message', {}).get('content', '')\n",
    "    else:\n",
    "        print(\"Error: 'choices' not found or empty in the response.\")\n",
    "        print(\"Passage:\", passage)\n",
    "        print(\"Question:\", question)\n",
    "        return \"Error in processing the response\""
   ]
  },
  {
   "cell_type": "code",
   "execution_count": 65,
   "metadata": {},
   "outputs": [],
   "source": [
    "def apply_one_shot_to_df(df, context_col, question_col, response_col, example, language=\"English\"):\n",
    "    \"\"\"\n",
    "    Applies one-shot question answering to specified context and question columns of a DataFrame,\n",
    "    using a provided example, and stores the responses in a new column.\n",
    "\n",
    "    Parameters:\n",
    "    - df (pandas.DataFrame): The DataFrame containing the data.\n",
    "    - context_col (str): Name of the column containing the context.\n",
    "    - question_col (str): Name of the column containing the questions.\n",
    "    - response_col (str): Name of the column where the responses will be stored.\n",
    "    - example (dict): An example containing a passage, question, and answer.\n",
    "    - language (str): The language in which the questions and contexts are provided.\n",
    "    \"\"\"\n",
    "    for index, row in df.iterrows():\n",
    "        response = one_shot_question(row[context_col], row[question_col], example, language)\n",
    "        df.at[index, response_col] = response\n",
    "\n",
    "    # Save the DataFrame after updating\n",
    "    df.to_csv('Data/squad.csv', index=False)"
   ]
  },
  {
   "cell_type": "code",
   "execution_count": 104,
   "metadata": {},
   "outputs": [],
   "source": [
    "example_arm = {\n",
    "    \"passage\": \"\"\"Երևանը Հայաստանի Հանրապետության մայրաքաղաքը և ամենամեծ քաղաքն է։ Այն հիմնադրվել է Ուրարտական թագավորության Արգիշտի Ա արքայի կողմից Ք․ա․ 782 թվականին:\"\"\",\n",
    "    \"question\": \"\"\"Ո՞վ է հիմնադրել Երևան քաղաքը:\"\"\",\n",
    "    \"answer\": \"Այն հիմնադրել է Արգիշտի Ա արքան:\"\n",
    "}\n",
    "\n",
    "apply_one_shot_to_df(df, 'context_arm_GT', 'question_arm_GT', 'response_arm_OS', example_arm, language='Armenian')"
   ]
  },
  {
   "cell_type": "code",
   "execution_count": 106,
   "metadata": {},
   "outputs": [],
   "source": [
    "example_en= {\n",
    "    \"passage\": \"\"\"Yerevan is the capital and the largest city of the Republic of Armenia. It was founded by King Argishti I of the Urartan Kingdom in BC. in 782.\"\"\",\n",
    "    \"question\": \"\"\"Who founded the city of Yerevan?\"\"\",\n",
    "    \"answer\": \"It was founded by King Argishti I.\"\n",
    "}\n",
    "\n",
    "apply_one_shot_to_df(df, 'context', 'question', 'response_en_OS', example_en)"
   ]
  },
  {
   "cell_type": "markdown",
   "metadata": {},
   "source": [
    "# Few-Shot Prompting"
   ]
  },
  {
   "cell_type": "code",
   "execution_count": 108,
   "metadata": {},
   "outputs": [],
   "source": [
    "def few_shot_question(passage, question, few_shot_examples, language=\"English\"):\n",
    "    \"\"\"\n",
    "    Executes a few-shot learning-based question answering with multiple examples provided.\n",
    "\n",
    "    Parameters:\n",
    "    - passage (str): The text from which the answer should be derived.\n",
    "    - question (str): The question that needs answering.\n",
    "    - few_shot_examples (list of dicts): A list of examples, each containing a passage, question, and answer to guide the model.\n",
    "    - language (str): The language in which the question and passage are written. Defaults to \"English\".\n",
    "\n",
    "    Returns:\n",
    "    - str: The extracted answer if available; otherwise, an error message.\n",
    "    \"\"\"\n",
    "    system_message = f\"Answer the question from the given passage in {language}. Your answer should be directly extracted from the passage, and it should be a single entity, name, or number, not a sentence.\"\n",
    "    messages = [\n",
    "        {\"role\": \"system\", \"content\": system_message}\n",
    "    ]\n",
    "\n",
    "    # Iterate through all provided examples\n",
    "    for example in few_shot_examples:\n",
    "        messages.extend([\n",
    "            {\"role\": \"user\", \"content\": example[\"passage\"]},\n",
    "            {\"role\": \"assistant\", \"content\": example[\"question\"]},\n",
    "            {\"role\": \"assistant\", \"content\": example[\"answer\"]}\n",
    "        ])\n",
    "\n",
    "    # Add the main question and passage\n",
    "    messages.extend([\n",
    "        {\"role\": \"user\", \"content\": passage},\n",
    "        {\"role\": \"assistant\", \"content\": question}\n",
    "    ])\n",
    "\n",
    "    chat_response = chat_completion_request(messages)\n",
    "\n",
    "    if 'choices' in chat_response and len(chat_response['choices']) > 0:\n",
    "        return chat_response['choices'][0].get('message', {}).get('content', '')\n",
    "    else:\n",
    "        print(\"Error: 'choices' not found or empty in the response.\")\n",
    "        print(\"Passage:\", passage)\n",
    "        print(\"Question:\", question)\n",
    "        return \"Error in processing the response\"\n"
   ]
  },
  {
   "cell_type": "code",
   "execution_count": 109,
   "metadata": {},
   "outputs": [],
   "source": [
    "def apply_few_shot_to_df(df, context_col, question_col, response_col, few_shot_examples, language=\"English\"):\n",
    "    \"\"\"\n",
    "    Applies few-shot question answering to specified context and question columns of a DataFrame,\n",
    "    using provided examples, and stores the responses in a new column.\n",
    "\n",
    "    Parameters:\n",
    "    - df (pandas.DataFrame): The DataFrame containing the data.\n",
    "    - context_col (str): Name of the column containing the context.\n",
    "    - question_col (str): Name of the column containing the questions.\n",
    "    - response_col (str): Name of the column where the responses will be stored.\n",
    "    - few_shot_examples (list of dicts): Examples containing passages, questions, and answers.\n",
    "    - language (str): The language in which the questions and contexts are provided.\n",
    "    \"\"\"\n",
    "    df[response_col] = None\n",
    "\n",
    "    for index, row in df.iterrows():\n",
    "        response = few_shot_question(row[context_col], row[question_col], few_shot_examples, language)\n",
    "        df.at[index, response_col] = response\n",
    "\n",
    "    #Save the DataFrame after updating\n",
    "    df.to_csv('updated_data.csv', index=False)"
   ]
  },
  {
   "cell_type": "code",
   "execution_count": 86,
   "metadata": {},
   "outputs": [],
   "source": [
    "few_shot_examples_arm = [\n",
    "    {\"passage\": \"\"\"Մոցարտը ծնվել է 1756 թվականի հունվարի 27ին Զալցբուրգում, Լեոպոլդ Մոցարտի և Աննա Մարիայի ընտանիքում։\"\"\", \n",
    "    \"question\": \"\"\"Ե՞րբ է ծնվել Մոցարտը։\"\"\",\n",
    "    \"answer\": \"Մոցարտը ծնվել է 1756 թվականին։\"},\n",
    "\n",
    "    {\"passage\": \"\"\"Նեղոսը աշխարհի ամենաերկար գետն է։ Գետի երկարությունը 6671 կմ է։\"\"\", \n",
    "     \"question\": \"\"\"Ո՞րն է աշխարհի ամենաերկար գետը։\"\"\", \n",
    "     \"answer\": \"Նեղոս\"},\n",
    "\n",
    "    {\"passage\": \"\"\"Կապույտ կետերը ամենամեծ կենդանիներն են, որոնք երբևէ ապրել են Երկրի վրա: Նրանք կշռում են ավելի քան 200 տոննա:\"\"\", \n",
    "     \"question\": \"\"\"Ո՞րն է աշխարհի ամենամեծ կենդանին։\"\"\",\n",
    "     \"answer\": \"Աշխարհի ամենամեծ կենդանին կապույտ կետն է։\"}\n",
    "]\n",
    "\n",
    "apply_few_shot_to_df(df, 'context_arm_GT', 'question_arm_GT', 'response_arm_FS', few_shot_examples_arm, language='Armenian')"
   ]
  },
  {
   "cell_type": "code",
   "execution_count": 110,
   "metadata": {},
   "outputs": [],
   "source": [
    "few_shot_examples_en = [\n",
    "    {\"passage\": \"\"\"Mozart was born on January 27, 1756 in Salzburg to Leopold Mozart and Anna Maria.\"\"\", \n",
    "    \"question\": \"\"\"When was Mozart born?\"\"\",\n",
    "    \"answer\": \"Mozart was born in 1756.\"},\n",
    "\n",
    "    {\"passage\": \"\"\"The Nile is the longest river in the world. The length of the river is 6671 km.\"\"\", \n",
    "     \"question\": \"\"\"What is the longest river in the world?\"\"\", \n",
    "     \"answer\": \"Nile\"},\n",
    "\n",
    "    {\"passage\": \"\"\"Blue whales are the largest animals that have ever lived on Earth. They weigh more than 200 tons.\"\"\", \n",
    "     \"question\": \"\"\"What is the largest animal in the world?\"\"\",\n",
    "     \"answer\": \"The largest animal in the world is the blue whale.\"}\n",
    "]\n",
    "\n",
    "apply_few_shot_to_df(df, 'context', 'question', 'response_en_FS', few_shot_examples_en)"
   ]
  },
  {
   "cell_type": "markdown",
   "metadata": {},
   "source": [
    "# Using Armenian as the language of system_message"
   ]
  },
  {
   "cell_type": "markdown",
   "metadata": {},
   "source": [
    "## Zero-Shot"
   ]
  },
  {
   "cell_type": "code",
   "execution_count": 120,
   "metadata": {},
   "outputs": [],
   "source": [
    "def zero_shot_question_arm(passage, question):\n",
    "    \"\"\"\n",
    "    Request an answer to a specified question based on a given text passage in a specified language.\n",
    "\n",
    "    Parameters:\n",
    "    - passage (str): The text passage from which the answer should be extracted.\n",
    "    - question (str): The question for which an answer is sought.\n",
    "\n",
    "    Returns:\n",
    "    - str: The extracted answer if available; otherwise, an error message.\n",
    "\n",
    "    Raises:\n",
    "    - Exception: Outputs an error message to the console if the response structure is unexpected.\n",
    "    \"\"\"\n",
    "    messages = []\n",
    "    messages.append({\"role\": \"system\", \"content\": \"\"\"Պատասխանիր հարցին տրված հատվածից:\n",
    "    Քո պատասխանը պետք է լինի անմիջապես տրված հանվածից, և պետք է լինի մեկ միավոր, անուն կամ թիվ, այլ ոչ նախադասություն։\"\"\"})\n",
    "    messages.append({\"role\": \"user\", \"content\": passage})\n",
    "    messages.append({\"role\": \"assistant\", \"content\": question})\n",
    "    \n",
    "    try:\n",
    "        chat_response = chat_completion_request(messages)\n",
    "        if 'choices' in chat_response and len(chat_response['choices']) > 0:\n",
    "            assistant_message = chat_response['choices'][0].get('message', {}).get('content', '')\n",
    "            return assistant_message\n",
    "        else:\n",
    "            raise ValueError(\"Error: 'choices' not found or empty in the response.\")\n",
    "    except Exception as e:\n",
    "        print(f\"Error processing the request: {e}\")\n",
    "        print(\"Passage:\", passage)\n",
    "        print(\"Question:\", question)\n",
    "        return \"Error in processing the response\""
   ]
  },
  {
   "cell_type": "code",
   "execution_count": 125,
   "metadata": {},
   "outputs": [],
   "source": [
    "def apply_zero_shot_arm(df, context_col, question_col, response_col):\n",
    "    \"\"\"\n",
    "    Applies zero-shot question answering to specified context and question columns of a DataFrame,\n",
    "    and stores the responses in a new column.\n",
    "\n",
    "    Parameters:\n",
    "    - df (pandas.DataFrame): The DataFrame containing the data.\n",
    "    - context_col (str): Name of the column containing the context.\n",
    "    - question_col (str): Name of the column containing the questions.\n",
    "    - response_col (str): Name of the column where the responses will be stored.\n",
    "    \"\"\"\n",
    "    for index, row in df.iterrows():\n",
    "        response = zero_shot_question_arm(row[context_col], row[question_col])\n",
    "        df.at[index, response_col] = response\n",
    "\n",
    "    # Save the DataFrame after updating\n",
    "    df.to_csv('Data/squad.csv', index=False)"
   ]
  },
  {
   "cell_type": "code",
   "execution_count": 126,
   "metadata": {},
   "outputs": [],
   "source": [
    "apply_zero_shot_arm(df, 'context_arm_GT', 'question_arm_GT', 'response_arm_sys_ZS')"
   ]
  },
  {
   "cell_type": "markdown",
   "metadata": {},
   "source": [
    "## One-Shot"
   ]
  },
  {
   "cell_type": "code",
   "execution_count": 128,
   "metadata": {},
   "outputs": [],
   "source": [
    "def one_shot_question_arm(passage, question, example):\n",
    "    \"\"\"\n",
    "    Executes a one-shot learning-based question answering with an example provided.\n",
    "\n",
    "    Parameters:\n",
    "    - passage (str): The text from which the answer should be derived.\n",
    "    - question (str): The question that needs answering.\n",
    "    - example (dict): An example containing a passage, question, and answer to guide the model.\n",
    "    \n",
    "    Returns:\n",
    "    - str: The extracted answer if available; otherwise, an error message.\n",
    "    \"\"\"\n",
    "    \n",
    "    messages = [\n",
    "        {\"role\": \"system\", \"content\": \"\"\"Պատասխանիր հարցին տրված հատվածից: Քո պատասխանը պետք է լինի անմիջապես տրված հանվածից, և պետք է լինի մեկ միավոր, անուն կամ թիվ, այլ ոչ նախադասություն։\"\"\"},\n",
    "        {\"role\": \"user\", \"content\": example[\"passage\"]},\n",
    "        {\"role\": \"assistant\", \"content\": example[\"question\"]},\n",
    "        {\"role\": \"assistant\", \"content\": example[\"answer\"]},\n",
    "        {\"role\": \"user\", \"content\": passage},\n",
    "        {\"role\": \"assistant\", \"content\": question}\n",
    "    ]\n",
    "    chat_response = chat_completion_request(messages)\n",
    "\n",
    "    if 'choices' in chat_response and len(chat_response['choices']) > 0:\n",
    "        return chat_response['choices'][0].get('message', {}).get('content', '')\n",
    "    else:\n",
    "        print(\"Error: 'choices' not found or empty in the response.\")\n",
    "        print(\"Passage:\", passage)\n",
    "        print(\"Question:\", question)\n",
    "        return \"Error in processing the response\""
   ]
  },
  {
   "cell_type": "code",
   "execution_count": 129,
   "metadata": {},
   "outputs": [],
   "source": [
    "def apply_one_shot_to_df_arm(df, context_col, question_col, response_col, example):\n",
    "    \"\"\"\n",
    "    Applies one-shot question answering to specified context and question columns of a DataFrame,\n",
    "    using a provided example, and stores the responses in a new column.\n",
    "\n",
    "    Parameters:\n",
    "    - df (pandas.DataFrame): The DataFrame containing the data.\n",
    "    - context_col (str): Name of the column containing the context.\n",
    "    - question_col (str): Name of the column containing the questions.\n",
    "    - response_col (str): Name of the column where the responses will be stored.\n",
    "    - example (dict): An example containing a passage, question, and answer.\n",
    "    \"\"\"\n",
    "    for index, row in df.iterrows():\n",
    "        response = one_shot_question_arm(row[context_col], row[question_col], example)\n",
    "        df.at[index, response_col] = response\n",
    "\n",
    "    # Save the DataFrame after updating\n",
    "    df.to_csv('Data/squad.csv', index=False)"
   ]
  },
  {
   "cell_type": "code",
   "execution_count": 130,
   "metadata": {},
   "outputs": [],
   "source": [
    "apply_one_shot_to_df_arm(df, 'context_arm_GT', 'question_arm_GT', 'response_arm_sys_OS', example_arm)"
   ]
  },
  {
   "cell_type": "markdown",
   "metadata": {},
   "source": [
    "## Few-Shot"
   ]
  },
  {
   "cell_type": "code",
   "execution_count": 132,
   "metadata": {},
   "outputs": [],
   "source": [
    "def few_shot_question_arm(passage, question, few_shot_examples):\n",
    "    \"\"\"\n",
    "    Executes a few-shot learning-based question answering with multiple examples provided.\n",
    "\n",
    "    Parameters:\n",
    "    - passage (str): The text from which the answer should be derived.\n",
    "    - question (str): The question that needs answering.\n",
    "    - few_shot_examples (list of dicts): A list of examples, each containing a passage, question, and answer to guide the model.\n",
    "\n",
    "    Returns:\n",
    "    - str: The extracted answer if available; otherwise, an error message.\n",
    "    \"\"\"\n",
    "    messages = [\n",
    "        {\"role\": \"system\", \"content\": \"\"\"Պատասխանիր հարցին տրված հատվածից: Քո պատասխանը պետք է լինի անմիջապես տրված հանվածից, և պետք է լինի մեկ միավոր, անուն կամ թիվ, այլ ոչ նախադասություն։\"\"\"}\n",
    "    ]\n",
    "\n",
    "    # Iterate through all provided examples\n",
    "    for example in few_shot_examples:\n",
    "        messages.extend([\n",
    "            {\"role\": \"user\", \"content\": example[\"passage\"]},\n",
    "            {\"role\": \"assistant\", \"content\": example[\"question\"]},\n",
    "            {\"role\": \"assistant\", \"content\": example[\"answer\"]}\n",
    "        ])\n",
    "\n",
    "    # Add the main question and passage\n",
    "    messages.extend([\n",
    "        {\"role\": \"user\", \"content\": passage},\n",
    "        {\"role\": \"assistant\", \"content\": question}\n",
    "    ])\n",
    "\n",
    "    chat_response = chat_completion_request(messages)\n",
    "\n",
    "    if 'choices' in chat_response and len(chat_response['choices']) > 0:\n",
    "        return chat_response['choices'][0].get('message', {}).get('content', '')\n",
    "    else:\n",
    "        print(\"Error: 'choices' not found or empty in the response.\")\n",
    "        print(\"Passage:\", passage)\n",
    "        print(\"Question:\", question)\n",
    "        return \"Error in processing the response\"\n"
   ]
  },
  {
   "cell_type": "code",
   "execution_count": 134,
   "metadata": {},
   "outputs": [],
   "source": [
    "def apply_few_shot_to_df_arm(df, context_col, question_col, response_col, few_shot_examples):\n",
    "    \"\"\"\n",
    "    Applies few-shot question answering to specified context and question columns of a DataFrame,\n",
    "    using provided examples, and stores the responses in a new column.\n",
    "\n",
    "    Parameters:\n",
    "    - df (pandas.DataFrame): The DataFrame containing the data.\n",
    "    - context_col (str): Name of the column containing the context.\n",
    "    - question_col (str): Name of the column containing the questions.\n",
    "    - response_col (str): Name of the column where the responses will be stored.\n",
    "    - few_shot_examples (list of dicts): Examples containing passages, questions, and answers.\n",
    "    \"\"\"\n",
    "    # Ensure the response column exists in the DataFrame\n",
    "    df[response_col] = None\n",
    "\n",
    "    for index, row in df.iterrows():\n",
    "        response = few_shot_question_arm(row[context_col], row[question_col], few_shot_examples)\n",
    "        df.at[index, response_col] = response\n",
    "\n",
    "    # Optional: Save the DataFrame after updating\n",
    "    df.to_csv('Data/squad.csv', index=False)"
   ]
  },
  {
   "cell_type": "code",
   "execution_count": 137,
   "metadata": {},
   "outputs": [
    {
     "name": "stdout",
     "output_type": "stream",
     "text": [
      "Error: 'choices' not found or empty in the response.\n",
      "Passage: Այնուամենայնիվ, էթնոաշխարհագրական կաստային հիերարխիային, որը ձեռնտու էր մոնղոլներին և այլ էթնիկական խմբերին, ավելի բարձր կարգավիճակ ստացավ, քան Հանի չինական մեծամասնությունը: Թեև Հան չինացիները, ովքեր հավաքագրվել էին որպես խորհրդական, հաճախ իրականում ավելի ազդեցիկ էին, քան բարձրաստիճան պաշտոնյաները, նրանց կարգավիճակն այնքան էլ հստակ սահմանված չէր: Կուբլայը նաև վերացրեց Չինաստանի քաղաքացիական ծառայության ժառանգության կայսերական քննությունները, որոնք չվերականգնվեցին մինչև Այուրբարվադա Բույանտու խանի գահակալությունը (1311–1320): Rossabi-ն գրում է, որ Կուբլայը գիտակցում էր, որ Չինաստանը կառավարելու համար «նա պետք է աշխատի չինացի խորհրդականների և պաշտոնյաների, սակայն նա չէր կարող լիովին ապավինել չինացի խորհրդականներին, քանի որ նա պետք է պահպաներ նուրբ հավասարակշռություն Չինաստանի նստակյաց քաղաքակրթությունը կառավարելու և Չինաստանի պահպանման միջև: մոնղոլների մշակութային ինքնությունն ու արժեքները»։ Եվ «Չինաստանը կառավարելիս նա մտահոգված էր իր չինացի հպատակների շահերով, բայց նաև կայսրության ռեսուրսներն իր սեփական մեծացման համար օգտագործելով: Նրա շարժառիթներն ու նպատակները փոխվում էին մեկից մյուսին իր թագավորության ողջ ընթացքում», - ասում է Ռոսաբին: Վան Պրագը գրում է «Տիբեթի կարգավիճակը» գրքում, որ տիբեթցիներն ու մոնղոլները, մյուս կողմից, պաշտպանում էին կառավարման երկակի համակարգ և փոխկապակցված հարաբերություններ, որոնք օրինականացնում էին մոնղոլ խաների իրավահաջորդությունը որպես համընդհանուր բուդդայական կառավարիչներ կամ չակրավարտին: Վան Պրագը գրում է, որ «Տիբեթը մնաց կայսրության եզակի մասը և երբեք ամբողջությամբ ինտեգրված չեղավ դրան»՝ մեջբերելով օրինակներ, ինչպիսիք են արտոնագրված սահմանային շուկան, որը գոյություն ուներ Չինաստանի և Տիբեթի միջև Յուանի ժամանակ:\n",
      "Question: Ե՞րբ է թագավորել Այուրբարվադա Բույանտու խանը:\n"
     ]
    }
   ],
   "source": [
    "apply_few_shot_to_df_arm(df, 'context_arm_GT', 'question_arm_GT', 'response_arm_sys_FS', few_shot_examples_arm)"
   ]
  },
  {
   "cell_type": "markdown",
   "metadata": {},
   "source": [
    "# Calculating Setence Similarity Using BERT"
   ]
  },
  {
   "cell_type": "code",
   "execution_count": 10,
   "metadata": {},
   "outputs": [],
   "source": [
    "def calculate_bert_similarity(sentence1, sentence2, tokenizer, model, device):\n",
    "    \"\"\"\n",
    "    Calculate the cosine similarity between two sentences using BERT embeddings.\n",
    "\n",
    "    Parameters:\n",
    "    - sentence1 (str): The first sentence.\n",
    "    - sentence2 (str): The second sentence.\n",
    "\n",
    "    Returns:\n",
    "    - float: The cosine similarity score between the two sentence embeddings.\n",
    "    \"\"\"\n",
    "    # Tokenize the sentences\n",
    "    encodings = tokenizer(\n",
    "        [sentence1, sentence2], \n",
    "        padding=True, \n",
    "        return_tensors='pt'\n",
    "    ).to(device)\n",
    "\n",
    "    # Generate embeddings with no gradient calculations\n",
    "    with torch.no_grad():\n",
    "        outputs = model(**encodings)\n",
    "        embeddings = outputs.last_hidden_state[:, 0, :]\n",
    "\n",
    "    # Normalize the embeddings\n",
    "    normalized_embeddings = F.normalize(embeddings, p=2, dim=1)\n",
    "\n",
    "    # Compute cosine similarity as dot product of normalized embeddings\n",
    "    similarity = (normalized_embeddings[0] * normalized_embeddings[1]).sum().item() \n",
    "    return similarity"
   ]
  },
  {
   "cell_type": "code",
   "execution_count": 11,
   "metadata": {},
   "outputs": [],
   "source": [
    "def apply_bert_similarity(df, col1, col2, new_col_name):\n",
    "    \"\"\"\n",
    "    Apply BERT-based similarity calculation for two columns in a DataFrame and add results to a new column.\n",
    "\n",
    "    Parameters:\n",
    "    - df (DataFrame): The DataFrame containing the text columns.\n",
    "    - col1 (str): Column name for the first set of sentences.\n",
    "    - col2 (str): Column name for the second set of sentences.\n",
    "    - new_col_name (str): Column name for the similarity scores.\n",
    "    \"\"\"\n",
    "    # Load the BERT model and tokenizer\n",
    "    bert_version = 'bert-large-uncased'\n",
    "    tokenizer = BertTokenizer.from_pretrained(bert_version)\n",
    "    model = BertModel.from_pretrained(bert_version)\n",
    "    model.eval()\n",
    "    device = torch.device(\"cuda\" if torch.cuda.is_available() else \"cpu\")\n",
    "    model.to(device)\n",
    "\n",
    "    # Calculate similarities and add to DataFrame\n",
    "    df[new_col_name] = df.apply(lambda row: calculate_bert_similarity(row[col1], row[col2], tokenizer, model, device), axis=1)"
   ]
  },
  {
   "cell_type": "code",
   "execution_count": 12,
   "metadata": {},
   "outputs": [],
   "source": [
    "# Back-translated data using google sheets =GOOGLETRANSLATE() function\n",
    "# df = pd.read_csv(\"Data/squad.csv\")"
   ]
  },
  {
   "cell_type": "code",
   "execution_count": 13,
   "metadata": {},
   "outputs": [],
   "source": [
    "apply_bert_similarity(df, 'response_en_ZS', 'response_arm_ZS_BT', \"sim_response_ZS\")\n",
    "apply_bert_similarity(df, 'response_en_OS', 'response_arm_OS_BT', \"sim_response_OS\")\n",
    "apply_bert_similarity(df, 'response_en_FS', 'response_arm_FS_BT', \"sim_response_FS\")\n",
    "apply_bert_similarity(df, 'response_en_ZS', 'response_arm_sys_ZS_BT', \"sim_response_arm_sys_ZS\")\n",
    "apply_bert_similarity(df, 'response_en_OS', 'response_arm_sys_OS_BT', \"sim_response_arm_sys_OS\")\n",
    "apply_bert_similarity(df, 'response_en_FS', 'response_arm_sys_FS_BT', \"sim_response_arm_sys_FS\")"
   ]
  },
  {
   "cell_type": "code",
   "execution_count": 28,
   "metadata": {},
   "outputs": [],
   "source": [
    "apply_bert_similarity(df, 'response_en_ZS', 'reference', \"sim_response_en_reference_ZS\")\n",
    "apply_bert_similarity(df, 'response_en_OS', 'reference', \"sim_response_en_reference_OS\")\n",
    "apply_bert_similarity(df, 'response_en_FS', 'reference', \"sim_response_en_reference_FS\")\n",
    "apply_bert_similarity(df, 'response_arm_ZS_BT', 'reference_arm_BT_GT', \"sim_response_arm_reference_ZS\")\n",
    "apply_bert_similarity(df, 'response_arm_OS_BT', 'reference_arm_BT_GT', \"sim_response_arm_reference_OS\")\n",
    "apply_bert_similarity(df, 'response_arm_FS_BT', 'reference_arm_BT_GT', \"sim_response_arm_reference_FS\")"
   ]
  },
  {
   "cell_type": "code",
   "execution_count": 29,
   "metadata": {},
   "outputs": [],
   "source": [
    "# Save scores in the df\n",
    "df.to_csv('Data/squad.csv', index=False)"
   ]
  },
  {
   "cell_type": "code",
   "execution_count": 33,
   "metadata": {},
   "outputs": [
    {
     "data": {
      "image/png": "[encoded data removed]",
      "text/plain": [
       "<Figure size 800x500 with 1 Axes>"
      ]
     },
     "metadata": {},
     "output_type": "display_data"
    }
   ],
   "source": [
    "# Boxplot of similarity scores with English Instructions\n",
    "plt.figure(figsize=(8, 5))\n",
    "plt.boxplot([df['sim_response_ZS'], df['sim_response_OS'], df['sim_response_FS']],\n",
    "            labels=['ZS', 'OS', 'FS'], vert=False,\n",
    "            medianprops=dict(color='red')) \n",
    "plt.title('BERT Similarity Scores for English and Armenian Responses')\n",
    "plt.xlabel('Similarity Score')\n",
    "plt.ylabel('Response Types')\n",
    "plt.savefig('bert_score_1.png')\n",
    "plt.show()"
   ]
  },
  {
   "cell_type": "code",
   "execution_count": 34,
   "metadata": {},
   "outputs": [
    {
     "data": {
      "image/png": "[encoded data removed]",
      "text/plain": [
       "<Figure size 800x500 with 1 Axes>"
      ]
     },
     "metadata": {},
     "output_type": "display_data"
    }
   ],
   "source": [
    "# Boxplot of similarity scores with Armenian Instructions\n",
    "plt.figure(figsize=(8, 5))\n",
    "plt.boxplot([df['sim_response_arm_sys_ZS'], df['sim_response_arm_sys_OS'], df['sim_response_arm_sys_FS']],\n",
    "            labels=['ZS', 'OS', 'FS'], vert=False,\n",
    "            medianprops=dict(color='red')) \n",
    "plt.title('BERT Similarity Scores for English and Armenian Responses (System Language Armenain)')\n",
    "plt.xlabel('Similarity Score')\n",
    "plt.ylabel('Response Types')\n",
    "plt.savefig('bert_score_2.png')\n",
    "plt.show()"
   ]
  },
  {
   "cell_type": "code",
   "execution_count": 35,
   "metadata": {},
   "outputs": [
    {
     "data": {
      "image/png": "[encoded data removed]",
      "text/plain": [
       "<Figure size 1200x600 with 1 Axes>"
      ]
     },
     "metadata": {},
     "output_type": "display_data"
    }
   ],
   "source": [
    "# Boxplot of BERT Similarity Scores for Generated Answers Reference-Based\n",
    "plt.figure(figsize=(12, 6))\n",
    "plt.boxplot([df['sim_response_en_reference_ZS'],\n",
    "    df['sim_response_en_reference_OS'],\n",
    "    df['sim_response_en_reference_FS'],\n",
    "    df['sim_response_arm_reference_ZS'],\n",
    "    df['sim_response_arm_reference_OS'],\n",
    "    df['sim_response_arm_reference_FS']], \n",
    "    labels=['EN ZS', 'EN OS', 'EN FS', 'ARM ZS', 'ARM OS', 'ARM FS'],\n",
    "    vert=True,\n",
    "    medianprops=dict(color='red')  \n",
    ")\n",
    "\n",
    "plt.title('BERT Similarity Scores for Generated Answers Reference-Based')\n",
    "plt.xlabel('Response Types')\n",
    "plt.ylabel('Similarity Score')\n",
    "plt.savefig('bert_score_3.png')\n",
    "plt.show()\n"
   ]
  },
  {
   "cell_type": "markdown",
   "metadata": {},
   "source": [
    "# Similarity Statistics"
   ]
  },
  {
   "cell_type": "code",
   "execution_count": 4,
   "metadata": {},
   "outputs": [
    {
     "name": "stdout",
     "output_type": "stream",
     "text": [
      "English-Armenian Similarity Statistics:\n",
      "       sim_response_ZS  sim_response_OS  sim_response_FS\n",
      "count        50.000000        50.000000        50.000000\n",
      "mean          0.642804         0.614860         0.711794\n",
      "std           0.246025         0.253477         0.215439\n",
      "min           0.182537         0.182537         0.192052\n",
      "25%           0.485079         0.439996         0.613314\n",
      "50%           0.635740         0.624298         0.731763\n",
      "75%           0.839834         0.847867         0.889468\n",
      "max           1.000000         1.000000         1.000000\n",
      "\n",
      "English-Armenian Similarity Statistics (Sys lang Arm):\n",
      "       sim_response_arm_sys_ZS  sim_response_arm_sys_OS  \\\n",
      "count                50.000000                50.000000   \n",
      "mean                  0.585550                 0.664792   \n",
      "std                   0.212846                 0.229562   \n",
      "min                   0.103062                 0.097153   \n",
      "25%                   0.420964                 0.526702   \n",
      "50%                   0.550154                 0.701424   \n",
      "75%                   0.743447                 0.854066   \n",
      "max                   1.000000                 1.000000   \n",
      "\n",
      "       sim_response_arm_sys_FS  \n",
      "count                50.000000  \n",
      "mean                  0.646955  \n",
      "std                   0.226374  \n",
      "min                   0.163786  \n",
      "25%                   0.497723  \n",
      "50%                   0.634032  \n",
      "75%                   0.839081  \n",
      "max                   1.000000  \n",
      "\n",
      "Reference-Based Responses Statistics:\n",
      "       sim_response_en_reference_ZS  sim_response_en_reference_OS  \\\n",
      "count                     50.000000                     50.000000   \n",
      "mean                       0.827414                      0.747643   \n",
      "std                        0.210774                      0.205990   \n",
      "min                        0.194603                      0.165455   \n",
      "25%                        0.695106                      0.638074   \n",
      "50%                        0.905224                      0.794176   \n",
      "75%                        1.000000                      0.894524   \n",
      "max                        1.000000                      1.000000   \n",
      "\n",
      "       sim_response_en_reference_FS  sim_response_arm_reference_ZS  \\\n",
      "count                     50.000000                      50.000000   \n",
      "mean                       0.761832                       0.662689   \n",
      "std                        0.217200                       0.214265   \n",
      "min                        0.194603                       0.286933   \n",
      "25%                        0.639286                       0.508665   \n",
      "50%                        0.786992                       0.613823   \n",
      "75%                        0.981763                       0.836661   \n",
      "max                        1.000000                       1.000000   \n",
      "\n",
      "       sim_response_arm_reference_OS  sim_response_arm_reference_FS  \n",
      "count                      50.000000                      50.000000  \n",
      "mean                        0.594926                       0.679247  \n",
      "std                         0.191584                       0.215566  \n",
      "min                         0.244350                       0.194603  \n",
      "25%                         0.467059                       0.531136  \n",
      "50%                         0.586106                       0.698288  \n",
      "75%                         0.701812                       0.855910  \n",
      "max                         1.000000                       1.000000  \n"
     ]
    }
   ],
   "source": [
    "# Define the columns for different groups\n",
    "english_responses = ['sim_response_ZS', 'sim_response_OS', 'sim_response_FS']\n",
    "armenian_sys_language = ['sim_response_arm_sys_ZS', 'sim_response_arm_sys_OS', 'sim_response_arm_sys_FS']\n",
    "reference_based = ['sim_response_en_reference_ZS', 'sim_response_en_reference_OS', 'sim_response_en_reference_FS',\n",
    "                   'sim_response_arm_reference_ZS', 'sim_response_arm_reference_OS', 'sim_response_arm_reference_FS']\n",
    "\n",
    "# Generate descriptive statistics\n",
    "english_stats = df[english_responses].describe()\n",
    "armenian_sys_stats = df[armenian_sys_language].describe()\n",
    "reference_based_stats = df[reference_based].describe()\n",
    "\n",
    "# Print the statistics to review them\n",
    "print(\"English-Armenian Similarity Statistics:\")\n",
    "print(english_stats)\n",
    "print(\"\\nEnglish-Armenian Similarity Statistics (Sys lang Arm):\")\n",
    "print(armenian_sys_stats)\n",
    "print(\"\\nReference-Based Responses Statistics:\")\n",
    "print(reference_based_stats)"
   ]
  }
 ],
 "metadata": {
  "kernelspec": {
   "display_name": "Python 3",
   "language": "python",
   "name": "python3"
  },
  "language_info": {
   "codemirror_mode": {
    "name": "ipython",
    "version": 3
   },
   "file_extension": ".py",
   "mimetype": "text/x-python",
   "name": "python",
   "nbconvert_exporter": "python",
   "pygments_lexer": "ipython3",
   "version": "3.11.1"
  }
 },
 "nbformat": 4,
 "nbformat_minor": 2
}
