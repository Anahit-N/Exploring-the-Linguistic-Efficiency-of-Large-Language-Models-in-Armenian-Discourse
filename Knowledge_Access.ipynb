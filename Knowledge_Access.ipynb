{
 "cells": [
  {
   "cell_type": "code",
   "execution_count": 4,
   "metadata": {},
   "outputs": [],
   "source": [
    "import pandas as pd\n",
    "\n",
    "import matplotlib.pyplot as plt\n",
    "import pandas as pd\n",
    "import requests\n",
    "import seaborn as sns\n",
    "\n",
    "import openai\n",
    "from tenacity import retry, stop_after_attempt, wait_random_exponential\n",
    "\n",
    "from transformers import BertTokenizer, BertModel\n",
    "import torch.nn.functional as F\n",
    "import torch\n",
    "\n",
    "import warnings\n",
    "warnings.filterwarnings(\"ignore\")"
   ]
  },
  {
   "cell_type": "code",
   "execution_count": 21,
   "metadata": {},
   "outputs": [
    {
     "data": {
      "text/html": [
       "<div>\n",
       "<style scoped>\n",
       "    .dataframe tbody tr th:only-of-type {\n",
       "        vertical-align: middle;\n",
       "    }\n",
       "\n",
       "    .dataframe tbody tr th {\n",
       "        vertical-align: top;\n",
       "    }\n",
       "\n",
       "    .dataframe thead th {\n",
       "        text-align: right;\n",
       "    }\n",
       "</style>\n",
       "<table border=\"1\" class=\"dataframe\">\n",
       "  <thead>\n",
       "    <tr style=\"text-align: right;\">\n",
       "      <th></th>\n",
       "      <th>question</th>\n",
       "      <th>answers</th>\n",
       "    </tr>\n",
       "  </thead>\n",
       "  <tbody>\n",
       "    <tr>\n",
       "      <th>0</th>\n",
       "      <td>what currency does senegal use?</td>\n",
       "      <td>['West African CFA franc']</td>\n",
       "    </tr>\n",
       "    <tr>\n",
       "      <th>1</th>\n",
       "      <td>what type of money does jamaica use?</td>\n",
       "      <td>['Jamaican dollar']</td>\n",
       "    </tr>\n",
       "    <tr>\n",
       "      <th>2</th>\n",
       "      <td>what money to take to sri lanka?</td>\n",
       "      <td>['Sri Lankan rupee']</td>\n",
       "    </tr>\n",
       "    <tr>\n",
       "      <th>3</th>\n",
       "      <td>when did the charlotte bobcats first play in t...</td>\n",
       "      <td>['2004 NBA Draft']</td>\n",
       "    </tr>\n",
       "    <tr>\n",
       "      <th>4</th>\n",
       "      <td>where is north port florida located?</td>\n",
       "      <td>['Sarasota County' 'United States of America' ...</td>\n",
       "    </tr>\n",
       "  </tbody>\n",
       "</table>\n",
       "</div>"
      ],
      "text/plain": [
       "                                            question  \\\n",
       "0                    what currency does senegal use?   \n",
       "1               what type of money does jamaica use?   \n",
       "2                   what money to take to sri lanka?   \n",
       "3  when did the charlotte bobcats first play in t...   \n",
       "4               where is north port florida located?   \n",
       "\n",
       "                                             answers  \n",
       "0                         ['West African CFA franc']  \n",
       "1                                ['Jamaican dollar']  \n",
       "2                               ['Sri Lankan rupee']  \n",
       "3                                 ['2004 NBA Draft']  \n",
       "4  ['Sarasota County' 'United States of America' ...  "
      ]
     },
     "execution_count": 21,
     "metadata": {},
     "output_type": "execute_result"
    }
   ],
   "source": [
    "df = pd.read_csv(\"Data/web_questions.csv\")\n",
    "df.head()"
   ]
  },
  {
   "cell_type": "code",
   "execution_count": 23,
   "metadata": {},
   "outputs": [
    {
     "data": {
      "text/html": [
       "<div>\n",
       "<style scoped>\n",
       "    .dataframe tbody tr th:only-of-type {\n",
       "        vertical-align: middle;\n",
       "    }\n",
       "\n",
       "    .dataframe tbody tr th {\n",
       "        vertical-align: top;\n",
       "    }\n",
       "\n",
       "    .dataframe thead th {\n",
       "        text-align: right;\n",
       "    }\n",
       "</style>\n",
       "<table border=\"1\" class=\"dataframe\">\n",
       "  <thead>\n",
       "    <tr style=\"text-align: right;\">\n",
       "      <th></th>\n",
       "      <th>question</th>\n",
       "      <th>answers</th>\n",
       "    </tr>\n",
       "  </thead>\n",
       "  <tbody>\n",
       "    <tr>\n",
       "      <th>0</th>\n",
       "      <td>what currency does senegal use?</td>\n",
       "      <td>West African CFA franc</td>\n",
       "    </tr>\n",
       "    <tr>\n",
       "      <th>1</th>\n",
       "      <td>what type of money does jamaica use?</td>\n",
       "      <td>Jamaican dollar</td>\n",
       "    </tr>\n",
       "    <tr>\n",
       "      <th>2</th>\n",
       "      <td>what money to take to sri lanka?</td>\n",
       "      <td>Sri Lankan rupee</td>\n",
       "    </tr>\n",
       "    <tr>\n",
       "      <th>3</th>\n",
       "      <td>when did the charlotte bobcats first play in t...</td>\n",
       "      <td>2004 NBA Draft</td>\n",
       "    </tr>\n",
       "    <tr>\n",
       "      <th>4</th>\n",
       "      <td>where is north port florida located?</td>\n",
       "      <td>Sarasota County' 'United States of America' 'F...</td>\n",
       "    </tr>\n",
       "  </tbody>\n",
       "</table>\n",
       "</div>"
      ],
      "text/plain": [
       "                                            question  \\\n",
       "0                    what currency does senegal use?   \n",
       "1               what type of money does jamaica use?   \n",
       "2                   what money to take to sri lanka?   \n",
       "3  when did the charlotte bobcats first play in t...   \n",
       "4               where is north port florida located?   \n",
       "\n",
       "                                             answers  \n",
       "0                             West African CFA franc  \n",
       "1                                    Jamaican dollar  \n",
       "2                                   Sri Lankan rupee  \n",
       "3                                     2004 NBA Draft  \n",
       "4  Sarasota County' 'United States of America' 'F...  "
      ]
     },
     "execution_count": 23,
     "metadata": {},
     "output_type": "execute_result"
    }
   ],
   "source": [
    "df['answers'] = df['answers'].apply(lambda x: x.strip(\"[]'\"))\n",
    "df.to_csv(\"Data/web_questions.csv\", index=False)\n",
    "df.head()"
   ]
  },
  {
   "cell_type": "code",
   "execution_count": 24,
   "metadata": {},
   "outputs": [
    {
     "data": {
      "text/html": [
       "<div>\n",
       "<style scoped>\n",
       "    .dataframe tbody tr th:only-of-type {\n",
       "        vertical-align: middle;\n",
       "    }\n",
       "\n",
       "    .dataframe tbody tr th {\n",
       "        vertical-align: top;\n",
       "    }\n",
       "\n",
       "    .dataframe thead th {\n",
       "        text-align: right;\n",
       "    }\n",
       "</style>\n",
       "<table border=\"1\" class=\"dataframe\">\n",
       "  <thead>\n",
       "    <tr style=\"text-align: right;\">\n",
       "      <th></th>\n",
       "      <th>question</th>\n",
       "      <th>answers</th>\n",
       "      <th>question_arm</th>\n",
       "    </tr>\n",
       "  </thead>\n",
       "  <tbody>\n",
       "    <tr>\n",
       "      <th>0</th>\n",
       "      <td>what currency does senegal use?</td>\n",
       "      <td>West African CFA franc</td>\n",
       "      <td>ինչ արժույթ է օգտագործում Սենեգալը:</td>\n",
       "    </tr>\n",
       "    <tr>\n",
       "      <th>1</th>\n",
       "      <td>what type of money does jamaica use?</td>\n",
       "      <td>Jamaican dollar</td>\n",
       "      <td>ինչ տեսակի փող է օգտագործում Ջամայկան:</td>\n",
       "    </tr>\n",
       "    <tr>\n",
       "      <th>2</th>\n",
       "      <td>what money to take to sri lanka?</td>\n",
       "      <td>Sri Lankan rupee</td>\n",
       "      <td>ինչ գումար տանել Շրի Լանկա.</td>\n",
       "    </tr>\n",
       "    <tr>\n",
       "      <th>3</th>\n",
       "      <td>when did the charlotte bobcats first play in t...</td>\n",
       "      <td>2004 NBA Draft</td>\n",
       "      <td>Ե՞րբ են charlotte bobcats-ն առաջին անգամ խաղաց...</td>\n",
       "    </tr>\n",
       "    <tr>\n",
       "      <th>4</th>\n",
       "      <td>where is north port florida located?</td>\n",
       "      <td>Sarasota County' 'United States of America' 'F...</td>\n",
       "      <td>որտեղ է գտնվում Հյուսիսային Պորտ Ֆլորիդան:</td>\n",
       "    </tr>\n",
       "  </tbody>\n",
       "</table>\n",
       "</div>"
      ],
      "text/plain": [
       "                                            question  \\\n",
       "0                    what currency does senegal use?   \n",
       "1               what type of money does jamaica use?   \n",
       "2                   what money to take to sri lanka?   \n",
       "3  when did the charlotte bobcats first play in t...   \n",
       "4               where is north port florida located?   \n",
       "\n",
       "                                             answers  \\\n",
       "0                             West African CFA franc   \n",
       "1                                    Jamaican dollar   \n",
       "2                                   Sri Lankan rupee   \n",
       "3                                     2004 NBA Draft   \n",
       "4  Sarasota County' 'United States of America' 'F...   \n",
       "\n",
       "                                        question_arm  \n",
       "0                ինչ արժույթ է օգտագործում Սենեգալը:  \n",
       "1             ինչ տեսակի փող է օգտագործում Ջամայկան:  \n",
       "2                        ինչ գումար տանել Շրի Լանկա.  \n",
       "3  Ե՞րբ են charlotte bobcats-ն առաջին անգամ խաղաց...  \n",
       "4         որտեղ է գտնվում Հյուսիսային Պորտ Ֆլորիդան:  "
      ]
     },
     "execution_count": 24,
     "metadata": {},
     "output_type": "execute_result"
    }
   ],
   "source": [
    "# df with translated question_arm column\n",
    "df = pd.read_csv(\"Data/web_questions.csv\")\n",
    "df.head()"
   ]
  },
  {
   "cell_type": "code",
   "execution_count": 32,
   "metadata": {},
   "outputs": [],
   "source": [
    "# Read the API key from the file\n",
    "with open('api_key.txt', 'r') as file:\n",
    "    api_key = file.read().strip()\n",
    "\n",
    "# Set the API key in the OpenAI library\n",
    "openai.api_key = api_key\n",
    "\n",
    "# Define the model to use\n",
    "GPT_MODEL = \"gpt-3.5-turbo-0613\""
   ]
  },
  {
   "cell_type": "code",
   "execution_count": 33,
   "metadata": {},
   "outputs": [],
   "source": [
    "@retry(wait=wait_random_exponential(multiplier=1, max=40), stop=stop_after_attempt(3))\n",
    "def chat_completion_request(messages, tools=None, tool_choice=None, model = GPT_MODEL):\n",
    "    \"\"\"\n",
    "    Sends request to the OpenAI API to generate chat completions based on the provided messages.\n",
    "\n",
    "    Parameters:\n",
    "    - messages (list): A list of message dictionaries to be sent to the chat completion model.\n",
    "    - tools (list, optional): A list of tools that can be utilized for generating completions.\n",
    "    - tool_choice (str, optional): A specific tool choice to influence the completion generation.\n",
    "    - model (str): The model to be used for generating completions.\n",
    "\n",
    "    Returns:\n",
    "    - dict: The JSON response from the API containing the completion if the request is successful.\n",
    "\n",
    "    Raises:\n",
    "    - Exception: If the request fails after the maximum number of retry attempts, it raises and\n",
    "      returns the exception, and prints an error message to the console.\n",
    "    \"\"\"\n",
    "    headers = {\n",
    "        \"Content-Type\": \"application/json\",\n",
    "        \"Authorization\": \"Bearer \" + openai.api_key,\n",
    "    }\n",
    "    json_data = {\"model\": model, \"messages\": messages}\n",
    "\n",
    "    if tools is not None:\n",
    "        json_data.update({\"tools\": tools})\n",
    "    if tool_choice is not None:\n",
    "        json_data.update({\"tool_choice\": tool_choice})\n",
    "        \n",
    "    try:\n",
    "        response = requests.post(\n",
    "            \"https://api.openai.com/v1/chat/completions\",\n",
    "            headers=headers,\n",
    "            json=json_data,\n",
    "        )\n",
    "        return response.json() \n",
    "    except Exception as e:\n",
    "        print(\"Unable to generate ChatCompletion response\")\n",
    "        print(f\"Exception: {e}\")\n",
    "        return e"
   ]
  },
  {
   "cell_type": "markdown",
   "metadata": {},
   "source": [
    "# Zero-Shot Prompting"
   ]
  },
  {
   "cell_type": "code",
   "execution_count": 39,
   "metadata": {},
   "outputs": [],
   "source": [
    "def zero_shot_question(question, language = \"English\"):\n",
    "    \"\"\"\n",
    "    This function asks a zero-shot question based on the provided question.\n",
    "    \n",
    "    Args:\n",
    "    question (str): The question to ask.\n",
    "    \n",
    "    Returns:\n",
    "    str: The answer generated by the model.\n",
    "    \"\"\"\n",
    "    messages = []\n",
    "    messages.append({\n",
    "        \"role\": \"system\",\n",
    "        \"content\": f\"Answer the given question in {language}. Provide a short, precise and direct responses based on your knowledge.\"\n",
    "    })\n",
    "    messages.append({\n",
    "        \"role\": \"assistant\",\n",
    "        \"content\": question\n",
    "    })\n",
    "    chat_response = chat_completion_request(messages)\n",
    "    assistant_message = chat_response[\"choices\"][0][\"message\"][\"content\"] \n",
    "    return assistant_message\n"
   ]
  },
  {
   "cell_type": "code",
   "execution_count": 38,
   "metadata": {},
   "outputs": [
    {
     "name": "stdout",
     "output_type": "stream",
     "text": [
      "Հյուսիսային Պորտ Ֆլորիդան գտնվում է ԱՄՆ-ի Ֆլորիդա նահանգում:\n"
     ]
    }
   ],
   "source": [
    "# Example\n",
    "question = \"\"\"որտեղ է գտնվում Հյուսիսային Պորտ Ֆլորիդան:\"\"\"\n",
    "response = zero_shot_question(question, language=\"Armenian\")\n",
    "print(response)"
   ]
  },
  {
   "cell_type": "code",
   "execution_count": 41,
   "metadata": {},
   "outputs": [],
   "source": [
    "def apply_zero_shot_to_df(df, question_col, response_col, language=\"English\"):\n",
    "    \"\"\"\n",
    "    Applies zero-shot question answering to specified question columns of a DataFrame,\n",
    "    and stores the responses in a new column.\n",
    "\n",
    "    Parameters:\n",
    "    - df (pandas.DataFrame): The DataFrame containing the data.\n",
    "    - question_col (str): Name of the column containing the questions.\n",
    "    - response_col (str): Name of the column where the responses will be stored.\n",
    "    - language (str, optional): The language in which the questions are provided. Defaults to \"English\".\n",
    "    \"\"\"\n",
    "    for index, row in df.iterrows():\n",
    "        response = zero_shot_question(row[question_col], language)\n",
    "        df.at[index, response_col] = response\n",
    "\n",
    "    \n",
    "    # Save the DataFrame after updating\n",
    "    df.to_csv('Data/web_questions.csv', index=False)"
   ]
  },
  {
   "cell_type": "code",
   "execution_count": 44,
   "metadata": {},
   "outputs": [],
   "source": [
    "apply_zero_shot_to_df(df, 'question', 'response_en_ZS')\n",
    "apply_zero_shot_to_df(df, 'question_arm', 'response_arm_ZS', language='Armenian')"
   ]
  },
  {
   "cell_type": "markdown",
   "metadata": {},
   "source": [
    "# One-Shot Prompting"
   ]
  },
  {
   "cell_type": "code",
   "execution_count": 64,
   "metadata": {},
   "outputs": [],
   "source": [
    "def one_shot_question(question, example, language=\"English\"):\n",
    "    \"\"\"\n",
    "    Executes a one-shot learning-based question answering with an example provided.\n",
    "\n",
    "    Parameters:\n",
    "    - question (str): The question that needs answering.\n",
    "    - example (dict): An example containing a question and answer to guide the model.\n",
    "    - language (str): The language in which the question is written. Defaults to \"English\".\n",
    "\n",
    "    Returns:\n",
    "    - str: The extracted answer if available; otherwise, an error message.\n",
    "    \"\"\"\n",
    "    messages = [\n",
    "        {\"role\": \"system\", \"content\": f\"Answer the given question in {language}. Provide a short, precise, and direct response based on your knowledge.\"},\n",
    "        {\"role\": \"assistant\", \"content\": example[\"question\"]},\n",
    "        {\"role\": \"assistant\", \"content\": example[\"answer\"]},\n",
    "        {\"role\": \"assistant\", \"content\": question}\n",
    "    ]\n",
    "    chat_response = chat_completion_request(messages)\n",
    "    assistant_message = chat_response[\"choices\"][0][\"message\"][\"content\"] \n",
    "    return assistant_message"
   ]
  },
  {
   "cell_type": "code",
   "execution_count": 65,
   "metadata": {},
   "outputs": [],
   "source": [
    "def apply_one_shot_to_df(df, question_col, example, response_col, language=\"English\"):\n",
    "    \"\"\"\n",
    "    Applies one-shot question answering to specified columns of a DataFrame,\n",
    "    using an example to guide the model, and stores the responses in a new column.\n",
    "\n",
    "    Parameters:\n",
    "    - df (pandas.DataFrame): The DataFrame containing the data.\n",
    "    - question_col (str): Name of the column containing the questions.\n",
    "    - example (dict): The example to guide the model.\n",
    "    - response_col (str): Name of the column where the responses will be stored.\n",
    "    - language (str, optional): The language in which the questions, passages, and examples are provided. Defaults to \"English\".\n",
    "    \"\"\"\n",
    "    for index, row in df.iterrows():\n",
    "        response = one_shot_question(row[question_col], example, language)\n",
    "        df.at[index, response_col] = response\n",
    "\n",
    "    # Save the DataFrame after updating\n",
    "    df.to_csv('Data/web_questions.csv', index=False)\n"
   ]
  },
  {
   "cell_type": "code",
   "execution_count": 69,
   "metadata": {},
   "outputs": [],
   "source": [
    "example_en = {\n",
    "    \"question\": \"What is the largest rainforest in the world?\",\n",
    "    \"answer\": \"The Amazon Rainforest.\"\n",
    "}\n",
    "\n",
    "example_arm = {\n",
    "    \"question\" : \"Ո՞րն է աշխարհի ամենամեծ անձրևային անտառը:\",\n",
    "    \"answer\": \"Ամազոնի անձրևային անտառ:\"\n",
    "}"
   ]
  },
  {
   "cell_type": "code",
   "execution_count": 67,
   "metadata": {},
   "outputs": [],
   "source": [
    "apply_one_shot_to_df(df, 'question', example_en, 'response_en_OS')\n",
    "apply_one_shot_to_df(df, 'question_arm', example_arm, 'response_arm_OS', language = \"Armenian\")"
   ]
  },
  {
   "cell_type": "markdown",
   "metadata": {},
   "source": [
    "# Few-Shot Prompting"
   ]
  },
  {
   "cell_type": "code",
   "execution_count": 76,
   "metadata": {},
   "outputs": [],
   "source": [
    "def few_shot_question(question, few_shot_examples, language=\"English\"):\n",
    "    \"\"\"\n",
    "    Executes a few-shot learning-based question answering with multiple examples provided, without using a passage.\n",
    "\n",
    "    Parameters:\n",
    "    - question (str): The question that needs answering.\n",
    "    - few_shot_examples (list of dicts): A list of examples, each containing a question and an answer to guide the model.\n",
    "    - language (str): The language in which the questions are written. Defaults to \"English\".\n",
    "\n",
    "    Returns:\n",
    "    - str: The extracted answer if available; otherwise, an error message.\n",
    "    \"\"\"\n",
    "    messages = [\n",
    "        {\"role\": \"system\", \"content\": f\"Answer the given question in {language}. Use the examples provided to guide your response, which should be direct, short, and precise.\"}\n",
    "    ]\n",
    "\n",
    "    # Iterate through all provided examples\n",
    "    for example in few_shot_examples:\n",
    "        messages.extend([\n",
    "            {\"role\": \"assistant\", \"content\": example[\"question\"]},\n",
    "            {\"role\": \"assistant\", \"content\": example[\"answer\"]}\n",
    "        ])\n",
    "\n",
    "    messages.append({\"role\": \"assistant\", \"content\": question})\n",
    "    chat_response = chat_completion_request(messages)\n",
    "    assistant_message = chat_response[\"choices\"][0][\"message\"][\"content\"] \n",
    "    \n",
    "    return assistant_message"
   ]
  },
  {
   "cell_type": "code",
   "execution_count": 77,
   "metadata": {},
   "outputs": [],
   "source": [
    "def apply_few_shot_to_df(df, question_col, few_shot_examples, response_col, language=\"English\"):\n",
    "    \"\"\"\n",
    "    Applies few-shot question answering to specified question column of a DataFrame,\n",
    "    using a list of examples to guide the model, and stores the responses in a new column.\n",
    "\n",
    "    Parameters:\n",
    "    - df (pandas.DataFrame): The DataFrame containing the data.\n",
    "    - question_col (str): Name of the column containing the questions.\n",
    "    - few_shot_examples (list of dicts): A list of examples, each containing a question and answer.\n",
    "    - response_col (str): Name of the column where the responses will be stored.\n",
    "    - language (str, optional): The language in which the questions are written. Defaults to \"English\".\n",
    "\n",
    "    Returns:\n",
    "    - pandas.DataFrame: The updated DataFrame with responses added in a new column.\n",
    "    \"\"\"\n",
    "   \n",
    "    for index, row in df.iterrows():\n",
    "        response = few_shot_question(row[question_col], few_shot_examples, language)\n",
    "        df.at[index, response_col] = response\n",
    "\n",
    "    df.to_csv('Data/web_questions.csv', index=False)"
   ]
  },
  {
   "cell_type": "code",
   "execution_count": 78,
   "metadata": {},
   "outputs": [],
   "source": [
    "few_shot_examples_en = [\n",
    "    {\"question\": \"What is the largest island in the world?\", \"answer\": \"Greenland\"},\n",
    "    {\"question\": \"What is the main language spoken in China?\", \"answer\": \"The main language spoken in China is Mandarin.\"},\n",
    "    {\"question\": \"Who is the author of the novel 1984?\", \"answer\": \"The author of the novel 1984 is George Orwell.\"}\n",
    "]\n",
    "\n",
    "few_shot_examples_arm = [\n",
    "    {\"question\": \"Ո՞րն է աշխարհի ամենամեծ կղզին:\", \"answer\": \"Գրենլանդիա\"},\n",
    "    {\"question\": \"Ո՞րն է Չինաստանում խոսվող հիմնական լեզուն:\", \"answer\": \"Չինաստանում խոսվող հիմնական լեզուն մանդարինն է։\"},\n",
    "    {\"question\": \"Ո՞վ է գրել հայտնի «1984» վեպը։\", \"answer\": \"1984 վեպի հեղինակը Ջորջ Օրուելն է։\"}\n",
    "]"
   ]
  },
  {
   "cell_type": "code",
   "execution_count": 80,
   "metadata": {},
   "outputs": [],
   "source": [
    "apply_few_shot_to_df(df, \"question\", few_shot_examples_en, \"response_en_FS\")\n",
    "apply_few_shot_to_df(df, 'question_arm', few_shot_examples_arm, 'response_arm_FS', language = \"Armenian\")"
   ]
  },
  {
   "cell_type": "markdown",
   "metadata": {},
   "source": [
    "# Using Armenian as the language of system_message"
   ]
  },
  {
   "cell_type": "markdown",
   "metadata": {},
   "source": [
    "## Zero-Shot"
   ]
  },
  {
   "cell_type": "code",
   "execution_count": 89,
   "metadata": {},
   "outputs": [],
   "source": [
    "def zero_shot_question_arm(question):\n",
    "    \"\"\"\n",
    "    This function asks a zero-shot question based on the provided question.\n",
    "    \n",
    "    Args:\n",
    "    question (str): The question to ask.\n",
    "    \n",
    "    Returns:\n",
    "    str: The answer generated by the model.\n",
    "    \"\"\"\n",
    "    messages = []\n",
    "    messages.append({\n",
    "        \"role\": \"system\",\n",
    "        \"content\": \"Կարճ և ճշգրիտ պատասխանիր տրված հարցին, հիմնվելով քո գիտելիքների վրա:\"\n",
    "    })\n",
    "    messages.append({\n",
    "        \"role\": \"assistant\",\n",
    "        \"content\": question\n",
    "    })\n",
    "    chat_response = chat_completion_request(messages)\n",
    "    assistant_message = chat_response[\"choices\"][0][\"message\"][\"content\"] \n",
    "    return assistant_message"
   ]
  },
  {
   "cell_type": "code",
   "execution_count": 90,
   "metadata": {},
   "outputs": [],
   "source": [
    "def apply_zero_shot_to_df_arm(df, question_col, response_col):\n",
    "    \"\"\"\n",
    "    Applies zero-shot question answering to specified question columns of a DataFrame,\n",
    "    and stores the responses in a new column.\n",
    "\n",
    "    Parameters:\n",
    "    - df (pandas.DataFrame): The DataFrame containing the data.\n",
    "    - question_col (str): Name of the column containing the questions.\n",
    "    - response_col (str): Name of the column where the responses will be stored.\n",
    "    - language (str, optional): The language in which the questions are provided. Defaults to \"English\".\n",
    "    \"\"\"\n",
    "    for index, row in df.iterrows():\n",
    "        response = zero_shot_question_arm(row[question_col])\n",
    "        df.at[index, response_col] = response\n",
    "\n",
    "    \n",
    "    # Save the DataFrame after updating\n",
    "    df.to_csv('Data/web_questions.csv', index=False)"
   ]
  },
  {
   "cell_type": "code",
   "execution_count": 91,
   "metadata": {},
   "outputs": [],
   "source": [
    "apply_zero_shot_to_df_arm(df, 'question_arm', 'response_arm_sys_ZS')"
   ]
  },
  {
   "cell_type": "markdown",
   "metadata": {},
   "source": [
    "## One-Shot"
   ]
  },
  {
   "cell_type": "code",
   "execution_count": 94,
   "metadata": {},
   "outputs": [],
   "source": [
    "def one_shot_question_arm(question, example):\n",
    "    \"\"\"\n",
    "    Executes a one-shot learning-based question answering with an example provided.\n",
    "\n",
    "    Parameters:\n",
    "    - question (str): The question that needs answering.\n",
    "    - example (dict): An example containing a question and answer to guide the model.\n",
    "    - language (str): The language in which the question is written. Defaults to \"English\".\n",
    "\n",
    "    Returns:\n",
    "    - str: The extracted answer if available; otherwise, an error message.\n",
    "    \"\"\"\n",
    "    messages = [\n",
    "        {\"role\": \"system\", \"content\": \"Կարճ և ճշգրիտ պատասխանիր տրված հարցին, հիմնվելով քո գիտելիքների վրա:\"},\n",
    "        {\"role\": \"assistant\", \"content\": example[\"question\"]},\n",
    "        {\"role\": \"assistant\", \"content\": example[\"answer\"]},\n",
    "        {\"role\": \"assistant\", \"content\": question}\n",
    "    ]\n",
    "    chat_response = chat_completion_request(messages)\n",
    "    assistant_message = chat_response[\"choices\"][0][\"message\"][\"content\"] \n",
    "    return assistant_message"
   ]
  },
  {
   "cell_type": "code",
   "execution_count": 96,
   "metadata": {},
   "outputs": [],
   "source": [
    "def apply_one_shot_to_df_arm(df, question_col, example, response_col):\n",
    "    \"\"\"\n",
    "    Applies one-shot question answering to specified columns of a DataFrame,\n",
    "    using an example to guide the model, and stores the responses in a new column.\n",
    "\n",
    "    Parameters:\n",
    "    - df (pandas.DataFrame): The DataFrame containing the data.\n",
    "    - question_col (str): Name of the column containing the questions.\n",
    "    - example (dict): The example to guide the model.\n",
    "    - response_col (str): Name of the column where the responses will be stored.\n",
    "    - language (str, optional): The language in which the questions, passages, and examples are provided. Defaults to \"English\".\n",
    "    \"\"\"\n",
    "    for index, row in df.iterrows():\n",
    "        response = one_shot_question_arm(row[question_col], example)\n",
    "        df.at[index, response_col] = response\n",
    "\n",
    "    # Save the DataFrame after updating\n",
    "    df.to_csv('Data/web_questions.csv', index=False)\n"
   ]
  },
  {
   "cell_type": "code",
   "execution_count": 97,
   "metadata": {},
   "outputs": [],
   "source": [
    "apply_one_shot_to_df_arm(df, 'question_arm', example_arm, 'response_arm_sys_OS')"
   ]
  },
  {
   "cell_type": "markdown",
   "metadata": {},
   "source": [
    "## Few-Shot"
   ]
  },
  {
   "cell_type": "code",
   "execution_count": 98,
   "metadata": {},
   "outputs": [],
   "source": [
    "def few_shot_question_arm(question, few_shot_examples):\n",
    "    \"\"\"\n",
    "    Executes a few-shot learning-based question answering with multiple examples provided, without using a passage.\n",
    "\n",
    "    Parameters:\n",
    "    - question (str): The question that needs answering.\n",
    "    - few_shot_examples (list of dicts): A list of examples, each containing a question and an answer to guide the model.\n",
    "    - language (str): The language in which the questions are written. Defaults to \"English\".\n",
    "\n",
    "    Returns:\n",
    "    - str: The extracted answer if available; otherwise, an error message.\n",
    "    \"\"\"\n",
    "    messages = [\n",
    "        {\"role\": \"system\", \"content\": \"Կարճ և ճշգրիտ պատասխանիր տրված հարցին, հիմնվելով քո գիտելիքների վրա:\"}\n",
    "    ]\n",
    "\n",
    "    # Iterate through all provided examples\n",
    "    for example in few_shot_examples:\n",
    "        messages.extend([\n",
    "            {\"role\": \"assistant\", \"content\": example[\"question\"]},\n",
    "            {\"role\": \"assistant\", \"content\": example[\"answer\"]}\n",
    "        ])\n",
    "\n",
    "    messages.append({\"role\": \"assistant\", \"content\": question})\n",
    "    chat_response = chat_completion_request(messages)\n",
    "    assistant_message = chat_response[\"choices\"][0][\"message\"][\"content\"] \n",
    "    \n",
    "    return assistant_message"
   ]
  },
  {
   "cell_type": "code",
   "execution_count": 99,
   "metadata": {},
   "outputs": [],
   "source": [
    "def apply_few_shot_to_df_arm(df, question_col, few_shot_examples, response_col):\n",
    "    \"\"\"\n",
    "    Applies few-shot question answering to specified question column of a DataFrame,\n",
    "    using a list of examples to guide the model, and stores the responses in a new column.\n",
    "\n",
    "    Parameters:\n",
    "    - df (pandas.DataFrame): The DataFrame containing the data.\n",
    "    - question_col (str): Name of the column containing the questions.\n",
    "    - few_shot_examples (list of dicts): A list of examples, each containing a question and answer.\n",
    "    - response_col (str): Name of the column where the responses will be stored.\n",
    "    - language (str, optional): The language in which the questions are written. Defaults to \"English\".\n",
    "\n",
    "    Returns:\n",
    "    - pandas.DataFrame: The updated DataFrame with responses added in a new column.\n",
    "    \"\"\"\n",
    "   \n",
    "    for index, row in df.iterrows():\n",
    "        response = few_shot_question_arm(row[question_col], few_shot_examples)\n",
    "        df.at[index, response_col] = response\n",
    "\n",
    "    df.to_csv('Data/web_questions.csv', index=False)"
   ]
  },
  {
   "cell_type": "code",
   "execution_count": 100,
   "metadata": {},
   "outputs": [],
   "source": [
    "apply_few_shot_to_df_arm(df, 'question_arm', few_shot_examples_arm, 'response_arm_sys_FS')"
   ]
  },
  {
   "cell_type": "markdown",
   "metadata": {},
   "source": [
    "# Calculating Setence Similarity Using BERT"
   ]
  },
  {
   "cell_type": "code",
   "execution_count": 3,
   "metadata": {},
   "outputs": [],
   "source": [
    "# Back-translated data using google sheets =GOOGLETRANSLATE() function\n",
    "# df = pd.read_csv(\"Data/web_questions.csv\")"
   ]
  },
  {
   "cell_type": "code",
   "execution_count": 5,
   "metadata": {},
   "outputs": [],
   "source": [
    "def calculate_bert_similarity(sentence1, sentence2, tokenizer, model, device):\n",
    "    \"\"\"\n",
    "    Calculate the cosine similarity between two sentences using BERT embeddings.\n",
    "\n",
    "    Parameters:\n",
    "    - sentence1 (str): The first sentence.\n",
    "    - sentence2 (str): The second sentence.\n",
    "\n",
    "    Returns:\n",
    "    - float: The cosine similarity score between the two sentence embeddings.\n",
    "    \"\"\"\n",
    "    # Tokenize the sentences\n",
    "    encodings = tokenizer(\n",
    "        [sentence1, sentence2], \n",
    "        padding=True, \n",
    "        return_tensors='pt'\n",
    "    ).to(device)\n",
    "\n",
    "    # Generate embeddings with no gradient calculations\n",
    "    with torch.no_grad():\n",
    "        outputs = model(**encodings)\n",
    "        embeddings = outputs.last_hidden_state[:, 0, :]\n",
    "\n",
    "    # Normalize the embeddings\n",
    "    normalized_embeddings = F.normalize(embeddings, p=2, dim=1)\n",
    "\n",
    "    # Compute cosine similarity as dot product of normalized embeddings\n",
    "    similarity = (normalized_embeddings[0] * normalized_embeddings[1]).sum().item() \n",
    "    return similarity"
   ]
  },
  {
   "cell_type": "code",
   "execution_count": 6,
   "metadata": {},
   "outputs": [],
   "source": [
    "def apply_bert_similarity(df, col1, col2, new_col_name):\n",
    "    \"\"\"\n",
    "    Apply BERT-based similarity calculation for two columns in a DataFrame and add results to a new column.\n",
    "\n",
    "    Parameters:\n",
    "    - df (DataFrame): The DataFrame containing the text columns.\n",
    "    - col1 (str): Column name for the first set of sentences.\n",
    "    - col2 (str): Column name for the second set of sentences.\n",
    "    - new_col_name (str): Column name for the similarity scores.\n",
    "    \"\"\"\n",
    "    # Load the BERT model and tokenizer\n",
    "    bert_version = 'bert-large-uncased'\n",
    "    tokenizer = BertTokenizer.from_pretrained(bert_version)\n",
    "    model = BertModel.from_pretrained(bert_version)\n",
    "    model.eval()\n",
    "    device = torch.device(\"cuda\" if torch.cuda.is_available() else \"cpu\")\n",
    "    model.to(device)\n",
    "\n",
    "    # Calculate similarities and add to DataFrame\n",
    "    df[new_col_name] = df.apply(lambda row: calculate_bert_similarity(row[col1], row[col2], tokenizer, model, device), axis=1)"
   ]
  },
  {
   "cell_type": "code",
   "execution_count": null,
   "metadata": {},
   "outputs": [],
   "source": [
    "apply_bert_similarity(df, 'response_en_ZS', 'response_arm_ZS_BT', \"sim_response_ZS\")\n",
    "apply_bert_similarity(df, 'response_en_OS', 'response_arm_OS_BT', \"sim_response_OS\")\n",
    "apply_bert_similarity(df, 'response_en_FS', 'response_arm_FS_BT', \"sim_response_FS\")\n",
    "apply_bert_similarity(df, 'response_en_ZS', 'response_arm_sys_ZS_BT', \"sim_response_arm_sys_ZS\")\n",
    "apply_bert_similarity(df, 'response_en_OS', 'response_arm_sys_OS_BT', \"sim_response_arm_sys_OS\")\n",
    "apply_bert_similarity(df, 'response_en_FS', 'response_arm_sys_FS_BT', \"sim_response_arm_sys_FS\")"
   ]
  },
  {
   "cell_type": "code",
   "execution_count": 10,
   "metadata": {},
   "outputs": [],
   "source": [
    "apply_bert_similarity(df, 'response_en_ZS', 'answers', \"sim_response_en_reference_ZS\")\n",
    "apply_bert_similarity(df, 'response_en_OS', 'answers', \"sim_response_en_reference_OS\")\n",
    "apply_bert_similarity(df, 'response_en_FS', 'answers', \"sim_response_en_reference_FS\")\n",
    "apply_bert_similarity(df, 'response_arm_ZS_BT', 'answers', \"sim_response_arm_reference_ZS\")\n",
    "apply_bert_similarity(df, 'response_arm_OS_BT', 'answers', \"sim_response_arm_reference_OS\")\n",
    "apply_bert_similarity(df, 'response_arm_FS_BT', 'answers', \"sim_response_arm_reference_FS\")"
   ]
  },
  {
   "cell_type": "code",
   "execution_count": 13,
   "metadata": {},
   "outputs": [],
   "source": [
    "df.to_csv(\"Data/web_questions.csv\", index = False)"
   ]
  },
  {
   "cell_type": "code",
   "execution_count": 18,
   "metadata": {},
   "outputs": [
    {
     "data": {
      "image/png": "[encoded data removed]",
      "text/plain": [
       "<Figure size 800x500 with 1 Axes>"
      ]
     },
     "metadata": {},
     "output_type": "display_data"
    }
   ],
   "source": [
    "# Boxplot of BERT Similarity Scores for English and Armenian Responses English instruction\n",
    "plt.figure(figsize=(8, 5))\n",
    "plt.boxplot([df['sim_response_ZS'], df['sim_response_OS'], df['sim_response_FS']],\n",
    "            labels=['ZS', 'OS', 'FS'], vert=False,\n",
    "            medianprops=dict(color='red')) \n",
    "plt.title('BERT Similarity Scores for English and Armenian Responses')\n",
    "plt.xlabel('Similarity Score')\n",
    "plt.ylabel('Response Types')\n",
    "plt.savefig('bert_score_web_1.png')\n",
    "plt.show()"
   ]
  },
  {
   "cell_type": "code",
   "execution_count": 19,
   "metadata": {},
   "outputs": [
    {
     "data": {
      "image/png": "[encoded data removed]",
      "text/plain": [
       "<Figure size 800x500 with 1 Axes>"
      ]
     },
     "metadata": {},
     "output_type": "display_data"
    }
   ],
   "source": [
    "# Boxplot of BERT Similarity Scores for English and Armenian Responses Armenian instruction\n",
    "plt.figure(figsize=(8, 5))\n",
    "plt.boxplot([df['sim_response_arm_sys_ZS'], df['sim_response_arm_sys_OS'], df['sim_response_arm_sys_FS']],\n",
    "            labels=['ZS', 'OS', 'FS'], vert=False,\n",
    "            medianprops=dict(color='red')) \n",
    "plt.title('BERT Similarity Scores for English and Armenian Responses (System Language Armenian)')\n",
    "plt.xlabel('Similarity Score')\n",
    "plt.ylabel('Response Types')\n",
    "plt.savefig('bert_score_web_2.png')\n",
    "plt.show()"
   ]
  },
  {
   "cell_type": "code",
   "execution_count": 20,
   "metadata": {},
   "outputs": [
    {
     "data": {
      "image/png": "[encoded data removed]",
      "text/plain": [
       "<Figure size 1200x600 with 1 Axes>"
      ]
     },
     "metadata": {},
     "output_type": "display_data"
    }
   ],
   "source": [
    "# Boxplot of BERT Similarity Scores for Generated Answers Reference-Based\n",
    "plt.figure(figsize=(12, 6))\n",
    "plt.boxplot([df['sim_response_en_reference_ZS'],\n",
    "    df['sim_response_en_reference_OS'],\n",
    "    df['sim_response_en_reference_FS'],\n",
    "    df['sim_response_arm_reference_ZS'],\n",
    "    df['sim_response_arm_reference_OS'],\n",
    "    df['sim_response_arm_reference_FS']], \n",
    "    labels=['EN ZS', 'EN OS', 'EN FS', 'ARM ZS', 'ARM OS', 'ARM FS'],\n",
    "    vert=True,\n",
    "    medianprops=dict(color='red')  \n",
    ")\n",
    "\n",
    "plt.title('BERT Similarity Scores for Generated Answers Reference-Based')\n",
    "plt.xlabel('Response Types')\n",
    "plt.ylabel('Similarity Score')\n",
    "plt.savefig('bert_score_web_3.png')\n",
    "plt.show()\n"
   ]
  },
  {
   "cell_type": "markdown",
   "metadata": {},
   "source": [
    "# Similarity Statistics"
   ]
  },
  {
   "cell_type": "code",
   "execution_count": 22,
   "metadata": {},
   "outputs": [
    {
     "name": "stdout",
     "output_type": "stream",
     "text": [
      "English-Armenian Similarity Statistics:\n",
      "       sim_response_ZS  sim_response_OS  sim_response_FS\n",
      "count        50.000000        50.000000        50.000000\n",
      "mean          0.708007         0.669450         0.720974\n",
      "std           0.149083         0.181447         0.182897\n",
      "min           0.348889         0.272943         0.114640\n",
      "25%           0.627854         0.528907         0.633607\n",
      "50%           0.726563         0.668526         0.739867\n",
      "75%           0.797184         0.818230         0.859432\n",
      "max           0.975884         0.975884         1.000000\n",
      "\n",
      "English-Armenian Similarity Statistics (Sys lang Arm):\n",
      "       sim_response_arm_sys_ZS  sim_response_arm_sys_OS  \\\n",
      "count                50.000000                50.000000   \n",
      "mean                  0.650056                 0.625845   \n",
      "std                   0.161299                 0.166383   \n",
      "min                   0.281461                 0.302871   \n",
      "25%                   0.545068                 0.536822   \n",
      "50%                   0.662684                 0.621946   \n",
      "75%                   0.757887                 0.733230   \n",
      "max                   0.941321                 1.000000   \n",
      "\n",
      "       sim_response_arm_sys_FS  \n",
      "count                50.000000  \n",
      "mean                  0.714384  \n",
      "std                   0.157636  \n",
      "min                   0.319771  \n",
      "25%                   0.627674  \n",
      "50%                   0.743026  \n",
      "75%                   0.801433  \n",
      "max                   1.000000  \n",
      "\n",
      "Reference-Based Responses Statistics:\n",
      "       sim_response_en_reference_ZS  sim_response_en_reference_OS  \\\n",
      "count                     50.000000                     50.000000   \n",
      "mean                       0.534469                      0.563353   \n",
      "std                        0.149955                      0.151275   \n",
      "min                        0.223918                      0.118267   \n",
      "25%                        0.446459                      0.489274   \n",
      "50%                        0.554928                      0.585381   \n",
      "75%                        0.643122                      0.667999   \n",
      "max                        0.821866                      0.855248   \n",
      "\n",
      "       sim_response_en_reference_FS  sim_response_arm_reference_ZS  \\\n",
      "count                     50.000000                      50.000000   \n",
      "mean                       0.553226                       0.535796   \n",
      "std                        0.142731                       0.120176   \n",
      "min                        0.169263                       0.324910   \n",
      "25%                        0.464893                       0.443942   \n",
      "50%                        0.577064                       0.554327   \n",
      "75%                        0.647921                       0.604820   \n",
      "max                        0.855248                       0.813261   \n",
      "\n",
      "       sim_response_arm_reference_OS  sim_response_arm_reference_FS  \n",
      "count                      50.000000                      50.000000  \n",
      "mean                        0.540158                       0.540390  \n",
      "std                         0.139681                       0.106550  \n",
      "min                         0.209792                       0.361836  \n",
      "25%                         0.454700                       0.475181  \n",
      "50%                         0.549253                       0.541134  \n",
      "75%                         0.639758                       0.593963  \n",
      "max                         0.798946                       0.769720  \n"
     ]
    }
   ],
   "source": [
    "english_responses = ['sim_response_ZS', 'sim_response_OS', 'sim_response_FS']\n",
    "armenian_sys_language = ['sim_response_arm_sys_ZS', 'sim_response_arm_sys_OS', 'sim_response_arm_sys_FS']\n",
    "reference_based = ['sim_response_en_reference_ZS', 'sim_response_en_reference_OS', 'sim_response_en_reference_FS',\n",
    "                   'sim_response_arm_reference_ZS', 'sim_response_arm_reference_OS', 'sim_response_arm_reference_FS']\n",
    "\n",
    "# Generate descriptive statistics\n",
    "english_stats = df[english_responses].describe()\n",
    "armenian_sys_stats = df[armenian_sys_language].describe()\n",
    "reference_based_stats = df[reference_based].describe()\n",
    "\n",
    "# Print the statistics to review them\n",
    "print(\"English-Armenian Similarity Statistics:\")\n",
    "print(english_stats)\n",
    "print(\"\\nEnglish-Armenian Similarity Statistics (Sys lang Arm):\")\n",
    "print(armenian_sys_stats)\n",
    "print(\"\\nReference-Based Responses Statistics:\")\n",
    "print(reference_based_stats)"
   ]
  }
 ],
 "metadata": {
  "kernelspec": {
   "display_name": "Python 3",
   "language": "python",
   "name": "python3"
  },
  "language_info": {
   "codemirror_mode": {
    "name": "ipython",
    "version": 3
   },
   "file_extension": ".py",
   "mimetype": "text/x-python",
   "name": "python",
   "nbconvert_exporter": "python",
   "pygments_lexer": "ipython3",
   "version": "3.11.1"
  }
 },
 "nbformat": 4,
 "nbformat_minor": 2
}
