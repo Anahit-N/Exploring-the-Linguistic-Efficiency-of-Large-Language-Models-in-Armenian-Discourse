{
 "cells": [
  {
   "cell_type": "code",
   "execution_count": 261,
   "metadata": {},
   "outputs": [],
   "source": [
    "import pandas as pd\n",
    "import matplotlib.pyplot as plt\n",
    "import re\n",
    "\n",
    "import openai\n",
    "from openai import OpenAI\n",
    "import requests\n",
    "from tenacity import retry, wait_random_exponential, stop_after_attempt\n",
    "\n",
    "import warnings\n",
    "warnings.filterwarnings(\"ignore\")"
   ]
  },
  {
   "cell_type": "code",
   "execution_count": 198,
   "metadata": {},
   "outputs": [],
   "source": [
    "df = pd.read_csv(\"Data/commonsense_qa.csv\")"
   ]
  },
  {
   "cell_type": "code",
   "execution_count": 311,
   "metadata": {},
   "outputs": [],
   "source": [
    "# Read the API key from the file\n",
    "with open('api_key.txt', 'r') as file:\n",
    "    api_key = file.read().strip()\n",
    "\n",
    "# Set the API key in the OpenAI library\n",
    "openai.api_key = api_key\n",
    "\n",
    "# Define the model to use\n",
    "GPT_MODEL = \"gpt-3.5-turbo-0613\""
   ]
  },
  {
   "cell_type": "code",
   "execution_count": 35,
   "metadata": {},
   "outputs": [],
   "source": [
    "@retry(wait=wait_random_exponential(multiplier=1, max=40), stop=stop_after_attempt(3))\n",
    "def chat_completion_request(messages, tools=None, tool_choice=None, model = GPT_MODEL):\n",
    "    \"\"\"\n",
    "    Sends request to the OpenAI API to generate chat completions based on the provided messages.\n",
    "\n",
    "    Parameters:\n",
    "    - messages (list): A list of message dictionaries to be sent to the chat completion model.\n",
    "    - tools (list, optional): A list of tools that can be utilized for generating completions.\n",
    "    - tool_choice (str, optional): A specific tool choice to influence the completion generation.\n",
    "    - model (str): The model to be used for generating completions.\n",
    "\n",
    "    Returns:\n",
    "    - dict: The JSON response from the API containing the completion if the request is successful.\n",
    "\n",
    "    Raises:\n",
    "    - Exception: If the request fails after the maximum number of retry attempts, it raises and\n",
    "      returns the exception, and prints an error message to the console.\n",
    "    \"\"\"\n",
    "    headers = {\n",
    "        \"Content-Type\": \"application/json\",\n",
    "        \"Authorization\": \"Bearer \" + openai.api_key,\n",
    "    }\n",
    "    json_data = {\"model\": model, \"messages\": messages}\n",
    "\n",
    "    if tools is not None:\n",
    "        json_data.update({\"tools\": tools})\n",
    "    if tool_choice is not None:\n",
    "        json_data.update({\"tool_choice\": tool_choice})\n",
    "        \n",
    "    try:\n",
    "        response = requests.post(\n",
    "            \"https://api.openai.com/v1/chat/completions\",\n",
    "            headers=headers,\n",
    "            json=json_data,\n",
    "        )\n",
    "        return response.json() \n",
    "    except Exception as e:\n",
    "        print(\"Unable to generate ChatCompletion response\")\n",
    "        print(f\"Exception: {e}\")\n",
    "        return e"
   ]
  },
  {
   "cell_type": "markdown",
   "metadata": {},
   "source": [
    "# Zero-Shot Prompting"
   ]
  },
  {
   "cell_type": "code",
   "execution_count": 41,
   "metadata": {},
   "outputs": [],
   "source": [
    "def zero_shot_question(question, choices):\n",
    "    \"\"\"\n",
    "    Asks a multiple-choice question using the OpenAI API and returns the assistant's response.\n",
    "    \n",
    "    Parameters:\n",
    "    - question (str): The question to be asked.\n",
    "    - choices (dict): Dictionary of choices where keys are option labels and values are the options' text.\n",
    "    \n",
    "    Returns:\n",
    "    - str: The assistant's response as determined by the OpenAI API.\n",
    "    \"\"\"\n",
    "    messages = [\n",
    "        {\"role\": \"system\", \"content\": \"\"\"You will be presented with a question that contains several possiable answers.\n",
    "         Choose the most suitable option from 'A', 'B', 'C', 'D' or 'E' based on your common sense.\n",
    "         Please give your answer in a single form letter.\"\"\"},\n",
    "        {\"role\": \"assistant\", \"content\": question},\n",
    "        {\"role\": \"assistant\", \"content\": f\"A) {choices['choice_A']} B) {choices['choice_B']} C) {choices['choice_C']} D) {choices['choice_D']} E) {choices['choice_E']}\"}\n",
    "    ]\n",
    "    chat_response = chat_completion_request(messages)\n",
    "    assistant_message = chat_response[\"choices\"][0][\"message\"][\"content\"]\n",
    "    return assistant_message\n"
   ]
  },
  {
   "cell_type": "code",
   "execution_count": 42,
   "metadata": {},
   "outputs": [],
   "source": [
    "responses = []\n",
    "for index, row in df.iterrows():\n",
    "    question = row[\"question\"]\n",
    "    choices = {\n",
    "        \"choice_A\": row[\"choice_A\"],\n",
    "        \"choice_B\": row[\"choice_B\"],\n",
    "        \"choice_C\": row[\"choice_C\"],\n",
    "        \"choice_D\": row[\"choice_D\"],\n",
    "        \"choice_E\": row[\"choice_E\"]\n",
    "    }\n",
    "    response = zero_shot_question(question, choices)\n",
    "    responses.append(response)\n",
    "\n",
    "df[\"responses_en_ZS\"] = responses"
   ]
  },
  {
   "cell_type": "code",
   "execution_count": 43,
   "metadata": {},
   "outputs": [],
   "source": [
    "responses = []\n",
    "for index, row in df.iterrows():\n",
    "    question = row[\"question_arm\"]\n",
    "    choices = {\n",
    "        \"choice_A\": row[\"choice_A_arm\"],\n",
    "        \"choice_B\": row[\"choice_B_arm\"],\n",
    "        \"choice_C\": row[\"choice_C_arm\"],\n",
    "        \"choice_D\": row[\"choice_D_arm\"],\n",
    "        \"choice_E\": row[\"choice_E_arm\"]\n",
    "    }\n",
    "    response = zero_shot_question(question, choices)\n",
    "    responses.append(response)\n",
    "\n",
    "df[\"responses_arm_ZS\"] = responses"
   ]
  },
  {
   "cell_type": "code",
   "execution_count": 44,
   "metadata": {},
   "outputs": [],
   "source": [
    "df.to_csv(\"Data/commonsense_qa.csv\", index=False)"
   ]
  },
  {
   "cell_type": "markdown",
   "metadata": {},
   "source": [
    "# One-Shot Prompting"
   ]
  },
  {
   "cell_type": "code",
   "execution_count": 47,
   "metadata": {},
   "outputs": [],
   "source": [
    "def one_shot_question(question, choices, example):\n",
    "    \"\"\"\n",
    "    Asks a multiple-choice question using the OpenAI API and returns the assistant's response, using \n",
    "    one-shot prompting with an external example.\n",
    "\n",
    "    Parameters:\n",
    "    - question (str): The question to ask.\n",
    "    - choices (dict): Dictionary of choices where keys are option labels and values are the options' text.\n",
    "    - example (str): The example provided to guide the user.\n",
    "    \n",
    "    Returns:\n",
    "    str: The assistant's response as determined by the OpenAI API.\n",
    "    \"\"\"\n",
    "    full_prompt = (\n",
    "        f\"Example:\\n{example}\\n\"\n",
    "        \"Now answer this:\\n\"\n",
    "        f\"Q: {question}\\n\"\n",
    "        \"Options:\\n\"\n",
    "        f\"A) {choices['choice_A']}\\n\"\n",
    "        f\"B) {choices['choice_B']}\\n\"\n",
    "        f\"C) {choices['choice_C']}\\n\"\n",
    "        f\"D) {choices['choice_D']}\\n\"\n",
    "        f\"E) {choices['choice_E']}\"\n",
    "    )\n",
    "    messages = [\n",
    "        {\"role\": \"system\", \"content\": \"You will be presented with a question and several possible answers. An example has been provided to guide you. After reviewing the example, please choose the most suitable option from 'A', 'B', 'C', 'D', or 'E' for the real question based on your best judgement.\"},\n",
    "        {\"role\": \"assistant\", \"content\": full_prompt}\n",
    "    ]\n",
    "    chat_response = chat_completion_request(messages)\n",
    "    assistant_message = chat_response[\"choices\"][0][\"message\"][\"content\"]\n",
    "    return assistant_message\n"
   ]
  },
  {
   "cell_type": "code",
   "execution_count": 55,
   "metadata": {},
   "outputs": [],
   "source": [
    "example_text_en = (\n",
    "    \"Q: When you want to cross the street safely at a traffic light, which light should you wait for before crossing?\\n\"\n",
    "    \"Options:\\n\"\n",
    "    \"A) Red light for pedestrians\\n\"\n",
    "    \"B) Green light for pedestrians.\\n\"\n",
    "    \"C) Yellow light for cars.\\n\"\n",
    "    \"D) Red light for cars.\\n\"\n",
    "    \"E) Green light for the cars\\n\"\n",
    "    \"B\"\n",
    ")\n",
    "\n",
    "example_text_arm = (\n",
    "    \"Հարց: Երբ ցանկանում ես փողոցն ապահով անցնել լուսացույցի լույսի տակ, ո՞ր լույսին պետք է սպասել անցնելուց առաջ։\\n\"\n",
    "    \"Տարբերակներ:\\n\"\n",
    "    \"A) Կարմիր լույսին հետիոտների համար։\\n\"\n",
    "    \"B) Կանաչ լույսին հետիոտների համար։\\n\"\n",
    "    \"C) Դեղին լույսին մեքենաների համար։\\n\"\n",
    "    \"D) Կարմիր լուսին մեքենաների համար։\\n\"\n",
    "    \"E) Կանաչ լույսին մեքենաների համար։\\n\"\n",
    "    \"B\"\n",
    ")"
   ]
  },
  {
   "cell_type": "code",
   "execution_count": 49,
   "metadata": {},
   "outputs": [],
   "source": [
    "def apply_one_shot_to_df(df, question_col, choice_cols, example, response_col):\n",
    "    \"\"\"\n",
    "    Applies one-shot question answering to specified columns of a DataFrame,\n",
    "    using an external example to guide the model, and stores the responses in a new column.\n",
    "\n",
    "    Parameters:\n",
    "    - df (pandas.DataFrame): The DataFrame containing the data.\n",
    "    - question_col (str): Name of the column containing the questions.\n",
    "    - choice_cols (list): List of column names that contain the multiple choice options.\n",
    "    - example (str): The example provided to guide the model.\n",
    "    - response_col (str): Name of the column where the responses will be stored.\n",
    "    \"\"\"\n",
    "\n",
    "    for index, row in df.iterrows():\n",
    "        choices = {f'choice_{chr(65+i)}': row[col] for i, col in enumerate(choice_cols)}\n",
    "        response = one_shot_question(row[question_col], choices, example)\n",
    "        \n",
    "        df.at[index, response_col] = response\n",
    "\n",
    "    df.to_csv('Data/commonsense_qa.csv', index=False)\n"
   ]
  },
  {
   "cell_type": "code",
   "execution_count": 56,
   "metadata": {},
   "outputs": [],
   "source": [
    "apply_one_shot_to_df(df, 'question', ['choice_A', 'choice_B', 'choice_C', 'choice_D', 'choice_E'], example_text_en, 'response_en_OS')\n",
    "apply_one_shot_to_df(df, 'question_arm', ['choice_A_arm', 'choice_B_arm', 'choice_C_arm', 'choice_D_arm', 'choice_E_arm'], example_text_arm, 'response_arm_OS')"
   ]
  },
  {
   "cell_type": "markdown",
   "metadata": {},
   "source": [
    "# Few-Shot Prompting"
   ]
  },
  {
   "cell_type": "code",
   "execution_count": 61,
   "metadata": {},
   "outputs": [],
   "source": [
    "def few_shot_question(question, choices, examples):\n",
    "    \"\"\"\n",
    "    Asks a multiple-choice question using the OpenAI API and returns the assistant's response, using \n",
    "    few-shot prompting with multiple external examples.\n",
    "\n",
    "    Parameters:\n",
    "    - question (str): The question to ask.\n",
    "    - choices (dict): Dictionary of choices where keys are option labels and values are the options' text.\n",
    "    - examples (list of str): List of formatted examples to guide the model.\n",
    "\n",
    "    Returns:\n",
    "    str: The assistant's response as determined by the OpenAI API.\n",
    "    \"\"\"\n",
    "    few_shot_examples = \"\\n\\n\".join(examples) + \"\\nNow answer this:\\n\"\n",
    "    real_question_prompt = (\n",
    "        f\"Q: {question}\\n\"\n",
    "        \"Options:\\n\" +\n",
    "        \"\".join([f\"{chr(65+i)}) {choices[f'choice_{chr(65+i)}']}\\n\" for i in range(len(choices))])\n",
    "    )\n",
    "    full_prompt = few_shot_examples + real_question_prompt\n",
    "    messages = [\n",
    "        {\"role\": \"system\", \"content\": \"You are to answer the following question based on the provided examples. Choose the most appropriate answer from the options.\"},\n",
    "        {\"role\": \"assistant\", \"content\": full_prompt}\n",
    "    ]\n",
    "    chat_response = chat_completion_request(messages)\n",
    "    assistant_message = chat_response[\"choices\"][0][\"message\"][\"content\"]\n",
    "    return assistant_message"
   ]
  },
  {
   "cell_type": "code",
   "execution_count": 62,
   "metadata": {},
   "outputs": [],
   "source": [
    "few_shot_examples_en = (\n",
    "    \"Q: Why should you wear a seat belt when driving a car?\\n\"\n",
    "    \"Options:\\n\"\n",
    "    \"A) It's more comfortable\\n\"\n",
    "    \"B) It keeps you safe in case of an accident\\n\"\n",
    "    \"C) It makes the car go faster\\n\"\n",
    "    \"D) It plays music\\n\"\n",
    "    \"E) To make a fashion statement\\n\"\n",
    "    \"B\\n\"\n",
    "    \n",
    "    \"Q: Who wrote 'Pride and Prejudice'?\\n\"\n",
    "    \"Options:\\n\"\n",
    "    \"A) Emily Bronte\\n\"\n",
    "    \"B) Jane Austen\\n\"\n",
    "    \"C) Charles Dickens\\n\"\n",
    "    \"D) Mark Twain\\n\"\n",
    "    \"E) George Orwell\\n\"\n",
    "    \"B\"\n",
    "\n",
    "    \"Q: Why do people use umbrellas?\\n\"\n",
    "    \"Options:\\n\"\n",
    "    \"A) To start exercising\\n\"\n",
    "    \"B) It's a color that is easy to see\\n\"\n",
    "    \"C) To wear them to a wedding\\n\"\n",
    "    \"D) To protect themselves from rain or sun\\n\"\n",
    "    \"E) To fly like Mary Poppins\\n\"\n",
    "    \"D\" \n",
    ")\n",
    "\n",
    "few_shot_examples_arm = (\n",
    "    \"Հարց. Ինչո՞ւ է պետք ամրագոտին կապել մեքենա վարելիս:\\n\"\n",
    "    \"Տարբերակներ.\\n\"\n",
    "    \"A) Ավելի հարմար է\\n\"\n",
    "    \"B) Այն ձեզ ապահով կպահի վթարի դեպքում\\n\"\n",
    "    \"C) Դա ստիպում է մեքենաին ավելի արագ գնալ\\n\"\n",
    "    \"D) Երաժշտություն է նվագում\\n\"\n",
    "    \"E) Նորաձևության հայտարարություն անել\\n\"\n",
    "    \"B\\n\"\n",
    "\n",
    "    \"Հարց. Ո՞վ է գրել «Հպարտություն և նախապաշարմունք»-ը:\\n\"\n",
    "    \"Տարբերակներ.\\n\"\n",
    "    \"A) Էմիլի Բրոնտե\\n\"\n",
    "    \"B) Ջեյն Օսթին\\n\"\n",
    "    \"C) Չարլզ Դիքենս\\n\"\n",
    "    \"D) Մարկ Տվեն\\n\"\n",
    "    \"E) Ջորջ Օրուել\\n\"\n",
    "    \"B\\n\"\n",
    "    \n",
    "    \"Հարց. Ինչո՞ւ են մարդիկ հովանոցներ օգտագործում:\\n\"\n",
    "    \"Տարբերակներ.\\n\"\n",
    "    \"A) Սկսել մարզվել\\n\"\n",
    "    \"B) Դա գույն է, որը հեշտ է տեսնել\\n\"\n",
    "    \"C) Հագնել հարսանիքին\\n\"\n",
    "    \"D) Անձրևից կամ արևից պաշտպանվելու համար\\n\"\n",
    "    \"E) Մերի Փոփինսի պես թռչել\\n\"\n",
    "    \"D\"\n",
    ")"
   ]
  },
  {
   "cell_type": "code",
   "execution_count": 63,
   "metadata": {},
   "outputs": [],
   "source": [
    "def apply_few_shot_to_df(df, question_col, choice_cols, examples, response_col):\n",
    "    \"\"\"\n",
    "    Applies few-shot question answering to specified columns of a DataFrame,\n",
    "    using multiple external examples to guide the model, and stores the responses in a new column.\n",
    "\n",
    "    Parameters:\n",
    "    - df (pandas.DataFrame): The DataFrame containing the data.\n",
    "    - question_col (str): Name of the column containing the questions.\n",
    "    - choice_cols (list of str): List of column names that contain the multiple choice options.\n",
    "    - examples (list of str): A list of formatted examples.\n",
    "    - response_col (str): Name of the column where the responses will be stored.\n",
    "    \"\"\"\n",
    "    # Iterate through each row in the DataFrame\n",
    "    for index, row in df.iterrows():\n",
    "        # Construct the choices dictionary dynamically\n",
    "        choices = {f'choice_{chr(65+i)}': row[col] for i, col in enumerate(choice_cols)}\n",
    "\n",
    "        # Call the few_shot_question function\n",
    "        response = few_shot_question(row[question_col], choices, examples)\n",
    "\n",
    "        # Store the response in the specified response column\n",
    "        df.at[index, response_col] = response\n",
    "\n",
    "    # Save the DataFrame after updating\n",
    "    df.to_csv('Data/commonsense_qa.csv', index=False)"
   ]
  },
  {
   "cell_type": "code",
   "execution_count": 66,
   "metadata": {},
   "outputs": [],
   "source": [
    "apply_one_shot_to_df(df, 'question', ['choice_A', 'choice_B', 'choice_C', 'choice_D', 'choice_E'], few_shot_examples_en, 'response_en_FS')\n",
    "apply_one_shot_to_df(df, 'question_arm', ['choice_A_arm', 'choice_B_arm', 'choice_C_arm', 'choice_D_arm', 'choice_E_arm'], few_shot_examples_arm, 'response_arm_FS')"
   ]
  },
  {
   "cell_type": "markdown",
   "metadata": {},
   "source": [
    "# Using Armenian as the language of system_message"
   ]
  },
  {
   "cell_type": "markdown",
   "metadata": {},
   "source": [
    "## Zero-Shot"
   ]
  },
  {
   "cell_type": "code",
   "execution_count": 242,
   "metadata": {},
   "outputs": [],
   "source": [
    "def zero_shot_question_arm(question, choices):\n",
    "    \"\"\"\n",
    "    Asks a multiple-choice question using the OpenAI API and returns the assistant's response.\n",
    "    \n",
    "    Parameters:\n",
    "    - question (str): The question to be asked.\n",
    "    - choices (dict): Dictionary of choices where keys are option labels and values are the options' text.\n",
    "    \n",
    "    Returns:\n",
    "    str: The assistant's response as determined by the OpenAI API.\n",
    "    \"\"\"\n",
    "    messages = [\n",
    "        {\"role\": \"system\", \"content\": \"\"\"Քեզ կտրվի հարց, որը պարունակում է մի քանի հնարավոր պատասխաններ։ Ընտրիր ամենահամապատասխան տարբերակը 'A', 'B', 'C', 'D' կամ 'E'-ից հիմնվելով քո դատողության վրա։\n",
    "         Պատասխանը պետք է լինի ընտրված տարբերակի տառը։\"\"\"},\n",
    "        {\"role\": \"assistant\", \"content\": question},\n",
    "        {\"role\": \"assistant\", \"content\": f\"A) {choices['choice_A']} B) {choices['choice_B']} C) {choices['choice_C']} D) {choices['choice_D']} E) {choices['choice_E']}\"}\n",
    "    ]\n",
    "    chat_response = chat_completion_request(messages)\n",
    "    assistant_message = chat_response[\"choices\"][0][\"message\"][\"content\"]\n",
    "    return assistant_message"
   ]
  },
  {
   "cell_type": "code",
   "execution_count": 243,
   "metadata": {},
   "outputs": [],
   "source": [
    "def apply_zero_shot_to_df_arm(df, question_col, choice_cols, response_col):\n",
    "    \"\"\"\n",
    "    Applies few-shot question answering to specified columns of a DataFrame,\n",
    "    using multiple external examples to guide the model, and stores the responses in a new column.\n",
    "\n",
    "    Parameters:\n",
    "    - df (pandas.DataFrame): The DataFrame containing the data.\n",
    "    - question_col (str): Name of the column containing the questions.\n",
    "    - choice_cols (list of str): List of column names that contain the multiple choice options.\n",
    "    - response_col (str): Name of the column where the responses will be stored.\n",
    "    \"\"\"\n",
    "    # Iterate through each row in the DataFrame\n",
    "    for index, row in df.iterrows():\n",
    "        # Construct the choices dictionary dynamically\n",
    "        choices = {f'choice_{chr(65+i)}': row[col] for i, col in enumerate(choice_cols)}\n",
    "\n",
    "        # Call the few_shot_question function\n",
    "        response = zero_shot_question_arm(row[question_col], choices)\n",
    "\n",
    "        # Store the response in the specified response column\n",
    "        df.at[index, response_col] = response\n",
    "\n",
    "    # Save the DataFrame after updating\n",
    "    df.to_csv('Data/commonsense_qa.csv', index=False)"
   ]
  },
  {
   "cell_type": "code",
   "execution_count": 244,
   "metadata": {},
   "outputs": [],
   "source": [
    "apply_zero_shot_to_df_arm(df, 'question_arm', ['choice_A_arm', 'choice_B_arm', 'choice_C_arm', 'choice_D_arm', 'choice_E_arm'], 'response_arm_sys_ZS')\n"
   ]
  },
  {
   "cell_type": "markdown",
   "metadata": {},
   "source": [
    "## One-Shot"
   ]
  },
  {
   "cell_type": "code",
   "execution_count": 245,
   "metadata": {},
   "outputs": [],
   "source": [
    "def one_shot_question_arm(question, choices, example):\n",
    "    \"\"\"\n",
    "    Asks a multiple-choice question using the OpenAI API and returns the assistant's response, using \n",
    "    one-shot prompting with an external example.\n",
    "\n",
    "    Parameters:\n",
    "    - question (str): The question to ask.\n",
    "    - choices (dict): Dictionary of choices where keys are option labels and values are the options' text.\n",
    "    - example (str): The example provided to guide the user.\n",
    "    \n",
    "    Returns:\n",
    "    str: The assistant's response as determined by the OpenAI API.\n",
    "    \"\"\"\n",
    "    full_prompt = (\n",
    "        f\"Example:\\n{example}\\n\"\n",
    "        \"Now answer this:\\n\"\n",
    "        f\"Q: {question}\\n\"\n",
    "        \"Options:\\n\"\n",
    "        f\"A) {choices['choice_A']}\\n\"\n",
    "        f\"B) {choices['choice_B']}\\n\"\n",
    "        f\"C) {choices['choice_C']}\\n\"\n",
    "        f\"D) {choices['choice_D']}\\n\"\n",
    "        f\"E) {choices['choice_E']}\"\n",
    "    )\n",
    "    messages = [\n",
    "        {\"role\": \"system\", \"content\": \"\"\"Քեզ կտրվի հարց, որը պարունակում է մի քանի հնարավոր պատասխաններ։ Ընտրիր ամենահամապատասխան տարբերակը 'A', 'B', 'C', 'D' կամ 'E'-ից հիմնվելով քո դատողության վրա։\n",
    "         Պատասխանը պետք է լինի ընտրված տարբերակի տառը։\"\"\"},\n",
    "        {\"role\": \"assistant\", \"content\": full_prompt}\n",
    "    ]\n",
    "    chat_response = chat_completion_request(messages)\n",
    "    assistant_message = chat_response[\"choices\"][0][\"message\"][\"content\"]\n",
    "    return assistant_message"
   ]
  },
  {
   "cell_type": "code",
   "execution_count": 246,
   "metadata": {},
   "outputs": [],
   "source": [
    "def apply_one_shot_to_df_arm(df, question_col, choice_cols, example, response_col):\n",
    "    \"\"\"\n",
    "    Applies one-shot question answering to specified columns of a DataFrame,\n",
    "    using an external example to guide the model, and stores the responses in a new column.\n",
    "\n",
    "    Parameters:\n",
    "    - df (pandas.DataFrame): The DataFrame containing the data.\n",
    "    - question_col (str): Name of the column containing the questions.\n",
    "    - choice_cols (list): List of column names that contain the multiple choice options.\n",
    "    - example (str): The example provided to guide the model.\n",
    "    - response_col (str): Name of the column where the responses will be stored.\n",
    "    \"\"\"\n",
    "\n",
    "    for index, row in df.iterrows():\n",
    "        choices = {f'choice_{chr(65+i)}': row[col] for i, col in enumerate(choice_cols)}\n",
    "        response = one_shot_question_arm(row[question_col], choices, example)\n",
    "        \n",
    "        df.at[index, response_col] = response\n",
    "\n",
    "    df.to_csv('Data/commonsense_qa.csv', index=False)"
   ]
  },
  {
   "cell_type": "code",
   "execution_count": 247,
   "metadata": {},
   "outputs": [],
   "source": [
    "apply_one_shot_to_df_arm(df, 'question_arm', ['choice_A_arm', 'choice_B_arm', 'choice_C_arm', 'choice_D_arm', 'choice_E_arm'], example_text_arm, 'response_arm_sys_OS')"
   ]
  },
  {
   "cell_type": "markdown",
   "metadata": {},
   "source": [
    "## Few-Shot"
   ]
  },
  {
   "cell_type": "code",
   "execution_count": 248,
   "metadata": {},
   "outputs": [],
   "source": [
    "def few_shot_question_arm(question, choices, examples):\n",
    "    \"\"\"\n",
    "    Asks a multiple-choice question using the OpenAI API and returns the assistant's response, using \n",
    "    few-shot prompting with multiple external examples.\n",
    "\n",
    "    Parameters:\n",
    "    question (str): The question to ask.\n",
    "    choices (dict): Dictionary of choices where keys are option labels and values are the options' text.\n",
    "    examples (list of str): List of formatted examples to guide the model.\n",
    "\n",
    "    Returns:\n",
    "    str: The assistant's response as determined by the OpenAI API.\n",
    "    \"\"\"\n",
    "    few_shot_examples = \"\\n\\n\".join(examples) + \"\\nNow answer this:\\n\"\n",
    "    real_question_prompt = (\n",
    "        f\"Q: {question}\\n\"\n",
    "        \"Options:\\n\" +\n",
    "        \"\".join([f\"{chr(65+i)}) {choices[f'choice_{chr(65+i)}']}\\n\" for i in range(len(choices))])\n",
    "    )\n",
    "    full_prompt = few_shot_examples + real_question_prompt\n",
    "    messages = [\n",
    "        {\"role\": \"system\", \"content\": \"\"\"Քեզ կտրվի հարց, որը պարունակում է մի քանի հնարավոր պատասխաններ։ Ընտրիր ամենահամապատասխան տարբերակը 'A', 'B', 'C', 'D' կամ 'E'-ից հիմնվելով քո դատողության վրա։\n",
    "         Պատասխանը պետք է լինի ընտրված տարբերակի տառը։\"\"\"},\n",
    "        {\"role\": \"assistant\", \"content\": full_prompt}\n",
    "    ]\n",
    "    chat_response = chat_completion_request(messages)\n",
    "    assistant_message = chat_response[\"choices\"][0][\"message\"][\"content\"]\n",
    "    return assistant_message"
   ]
  },
  {
   "cell_type": "code",
   "execution_count": 249,
   "metadata": {},
   "outputs": [],
   "source": [
    "def apply_few_shot_to_df_arm(df, question_col, choice_cols, examples, response_col):\n",
    "    \"\"\"\n",
    "    Applies few-shot question answering to specified columns of a DataFrame,\n",
    "    using multiple external examples to guide the model, and stores the responses in a new column.\n",
    "\n",
    "    Parameters:\n",
    "    - df (pandas.DataFrame): The DataFrame containing the data.\n",
    "    - question_col (str): Name of the column containing the questions.\n",
    "    - choice_cols (list of str): List of column names that contain the multiple choice options.\n",
    "    - examples (list of str): A list of formatted examples.\n",
    "    - response_col (str): Name of the column where the responses will be stored.\n",
    "    \"\"\"\n",
    "    # Iterate through each row in the DataFrame\n",
    "    for index, row in df.iterrows():\n",
    "        # Construct the choices dictionary dynamically\n",
    "        choices = {f'choice_{chr(65+i)}': row[col] for i, col in enumerate(choice_cols)}\n",
    "\n",
    "        # Call the few_shot_question function\n",
    "        response = few_shot_question_arm(row[question_col], choices, examples)\n",
    "\n",
    "        # Store the response in the specified response column\n",
    "        df.at[index, response_col] = response\n",
    "\n",
    "    # Save the DataFrame after updating\n",
    "    df.to_csv('Data/commonsense_qa.csv', index=False)"
   ]
  },
  {
   "cell_type": "code",
   "execution_count": 250,
   "metadata": {},
   "outputs": [],
   "source": [
    "apply_few_shot_to_df_arm(df, 'question_arm', ['choice_A_arm', 'choice_B_arm', 'choice_C_arm', 'choice_D_arm', 'choice_E_arm'], few_shot_examples_arm, 'response_arm_sys_FS')"
   ]
  },
  {
   "cell_type": "code",
   "execution_count": 287,
   "metadata": {},
   "outputs": [],
   "source": [
    "def process_responses(df, response_columns):\n",
    "    \"\"\"\n",
    "    Processes multiple response columns in a DataFrame to extract letters A to E (standalone or in various formats),\n",
    "    but avoids splitting when formatted as 'A)', 'B)', etc. Adds two new columns for each response column to store\n",
    "    the extracted letter and the remaining text.\n",
    "\n",
    "    Parameters:\n",
    "    - df (pandas.DataFrame): The DataFrame containing the data.\n",
    "    - response_columns (list of str): List of column names containing the full responses.\n",
    "    \"\"\"\n",
    "    # Check if df is indeed a DataFrame\n",
    "    if not isinstance(df, pd.DataFrame):\n",
    "        raise ValueError(\"df must be a pandas DataFrame\")\n",
    "\n",
    "    for response_column in response_columns:\n",
    "        letter_column = f'{response_column}_letter'\n",
    "        text_column = f'{response_column}_text'\n",
    "\n",
    "        # Initialize new columns\n",
    "        df[letter_column] = None\n",
    "        df[text_column] = None\n",
    "\n",
    "        # Iterate over rows\n",
    "        for index, row in df.iterrows():\n",
    "            text = row[response_column]\n",
    "            if pd.notna(text):\n",
    "                # Check if the format is exactly 'Letter)' to avoid splitting\n",
    "                if re.match(\"^[ABCDE]\\)$\", text.strip()):\n",
    "                    df.at[index, letter_column] = text[0]\n",
    "                    df.at[index, text_column] = \"\"\n",
    "                else:\n",
    "                    # Splitting the text on the first occurrence of ')' if it's not just 'Letter)'\n",
    "                    split_text = text.split(')', 1)\n",
    "                    df.at[index, letter_column] = split_text[0].strip() if len(split_text[0].strip()) == 1 and split_text[0].strip() in \"ABCDE\" else None\n",
    "                    df.at[index, text_column] = split_text[1].strip() if len(split_text) > 1 else \"\"\n",
    "\n",
    "    return df"
   ]
  },
  {
   "cell_type": "code",
   "execution_count": 288,
   "metadata": {},
   "outputs": [
    {
     "data": {
      "text/html": [
       "<div>\n",
       "<style scoped>\n",
       "    .dataframe tbody tr th:only-of-type {\n",
       "        vertical-align: middle;\n",
       "    }\n",
       "\n",
       "    .dataframe tbody tr th {\n",
       "        vertical-align: top;\n",
       "    }\n",
       "\n",
       "    .dataframe thead th {\n",
       "        text-align: right;\n",
       "    }\n",
       "</style>\n",
       "<table border=\"1\" class=\"dataframe\">\n",
       "  <thead>\n",
       "    <tr style=\"text-align: right;\">\n",
       "      <th></th>\n",
       "      <th>question</th>\n",
       "      <th>question_concept</th>\n",
       "      <th>choices</th>\n",
       "      <th>answerKey</th>\n",
       "      <th>choice_A</th>\n",
       "      <th>choice_B</th>\n",
       "      <th>choice_C</th>\n",
       "      <th>choice_D</th>\n",
       "      <th>choice_E</th>\n",
       "      <th>question_arm</th>\n",
       "      <th>...</th>\n",
       "      <th>response_arm_OS_letter</th>\n",
       "      <th>response_arm_OS_text</th>\n",
       "      <th>response_arm_FS_letter</th>\n",
       "      <th>response_arm_FS_text</th>\n",
       "      <th>response_arm_sys_ZS_letter</th>\n",
       "      <th>response_arm_sys_ZS_text</th>\n",
       "      <th>response_arm_sys_OS_letter</th>\n",
       "      <th>response_arm_sys_OS_text</th>\n",
       "      <th>response_arm_sys_FS_letter</th>\n",
       "      <th>response_arm_sys_FS_text</th>\n",
       "    </tr>\n",
       "  </thead>\n",
       "  <tbody>\n",
       "    <tr>\n",
       "      <th>0</th>\n",
       "      <td>Bill sits down on a whoopee cushion, what soun...</td>\n",
       "      <td>sitting down</td>\n",
       "      <td>{'label': array(['A', 'B', 'C', 'D', 'E'], dty...</td>\n",
       "      <td>B</td>\n",
       "      <td>fall asleep</td>\n",
       "      <td>flatulence</td>\n",
       "      <td>sigh of relief</td>\n",
       "      <td>medium</td>\n",
       "      <td>comfort</td>\n",
       "      <td>Բիլլը նստում է բարձիկի վրա, ի՞նչ ձայն է նա նստ...</td>\n",
       "      <td>...</td>\n",
       "      <td>A</td>\n",
       "      <td>քնել, քնով անցնել\\nB) փքվածություն\\nC) թեթեւաց...</td>\n",
       "      <td>E</td>\n",
       "      <td>հարմարավետություն</td>\n",
       "      <td>None</td>\n",
       "      <td>մեկը B) երկուսը C) երեքը D) չի քանիսացում</td>\n",
       "      <td>A</td>\n",
       "      <td>քնել, քնով անցնել</td>\n",
       "      <td>A</td>\n",
       "      <td>քնել, քնով անցնել</td>\n",
       "    </tr>\n",
       "  </tbody>\n",
       "</table>\n",
       "<p>1 rows × 42 columns</p>\n",
       "</div>"
      ],
      "text/plain": [
       "                                            question question_concept  \\\n",
       "0  Bill sits down on a whoopee cushion, what soun...     sitting down   \n",
       "\n",
       "                                             choices answerKey     choice_A  \\\n",
       "0  {'label': array(['A', 'B', 'C', 'D', 'E'], dty...         B  fall asleep   \n",
       "\n",
       "     choice_B        choice_C choice_D choice_E  \\\n",
       "0  flatulence  sigh of relief   medium  comfort   \n",
       "\n",
       "                                        question_arm  ...  \\\n",
       "0  Բիլլը նստում է բարձիկի վրա, ի՞նչ ձայն է նա նստ...  ...   \n",
       "\n",
       "  response_arm_OS_letter                               response_arm_OS_text  \\\n",
       "0                      A  քնել, քնով անցնել\\nB) փքվածություն\\nC) թեթեւաց...   \n",
       "\n",
       "  response_arm_FS_letter response_arm_FS_text response_arm_sys_ZS_letter  \\\n",
       "0                      E    հարմարավետություն                       None   \n",
       "\n",
       "                    response_arm_sys_ZS_text response_arm_sys_OS_letter  \\\n",
       "0  մեկը B) երկուսը C) երեքը D) չի քանիսացում                          A   \n",
       "\n",
       "  response_arm_sys_OS_text response_arm_sys_FS_letter response_arm_sys_FS_text  \n",
       "0        քնել, քնով անցնել                          A        քնել, քնով անցնել  \n",
       "\n",
       "[1 rows x 42 columns]"
      ]
     },
     "execution_count": 288,
     "metadata": {},
     "output_type": "execute_result"
    }
   ],
   "source": [
    "process_responses(df, [\"responses_en_ZS\"])\n",
    "process_responses(df, [\"response_en_OS\"])\n",
    "process_responses(df, [\"response_en_FS\"])\n",
    "process_responses(df, [\"responses_arm_ZS\"])\n",
    "process_responses(df, [\"response_arm_OS\"])\n",
    "process_responses(df, [\"response_arm_FS\"])\n",
    "process_responses(df, [\"response_arm_sys_ZS\"])\n",
    "process_responses(df, [\"response_arm_sys_OS\"])\n",
    "process_responses(df, [\"response_arm_sys_FS\"])\n",
    "df.head(1)"
   ]
  },
  {
   "cell_type": "code",
   "execution_count": 289,
   "metadata": {},
   "outputs": [],
   "source": [
    "df.to_csv(\"Data/commonsense_qa.csv\", index=False)"
   ]
  },
  {
   "cell_type": "markdown",
   "metadata": {},
   "source": [
    "## Accuracy"
   ]
  },
  {
   "cell_type": "code",
   "execution_count": 294,
   "metadata": {},
   "outputs": [
    {
     "name": "stdout",
     "output_type": "stream",
     "text": [
      "Accuracy of zero-shot English: 76.0%\n",
      "Accuracy of one-shot English: 64.0%\n",
      "Accuracy of few-shot English: 66.0%\n"
     ]
    }
   ],
   "source": [
    "df['accur_responses_en_ZS_letter'] = df['responses_en_ZS_letter'] == df['answerKey']\n",
    "accuracy_ZS_en = df['accur_responses_en_ZS_letter'].mean() * 100\n",
    "\n",
    "df['accur_responses_en_OS_letter'] = df['response_en_OS_letter'] == df['answerKey']\n",
    "accuracy_OS_en = df['accur_responses_en_OS_letter'].mean() * 100\n",
    "\n",
    "df['accur_responses_en_FS_letter'] = df['response_en_FS_letter'] == df['answerKey']\n",
    "accuracy_FS_en = df['accur_responses_en_FS_letter'].mean() * 100\n",
    "\n",
    "print(f\"Accuracy of zero-shot English: {accuracy_ZS_en}%\")\n",
    "print(f\"Accuracy of one-shot English: {accuracy_OS_en}%\")\n",
    "print(f\"Accuracy of few-shot English: {accuracy_FS_en}%\")"
   ]
  },
  {
   "cell_type": "code",
   "execution_count": 296,
   "metadata": {},
   "outputs": [
    {
     "name": "stdout",
     "output_type": "stream",
     "text": [
      "Accuracy of zero-shot Armenian: 26.0%\n",
      "Accuracy of one-shot Armenian: 8.0%\n",
      "Accuracy of few-shot Armenian: 14.000000000000002%\n"
     ]
    }
   ],
   "source": [
    "df['accur_responses_arm_ZS_letter'] = df['responses_arm_ZS_letter'] == df['answerKey']\n",
    "accuracy_ZS_arm = df['accur_responses_arm_ZS_letter'].mean() * 100\n",
    "\n",
    "df['accur_responses_arm_OS_letter'] = df['response_arm_OS_letter'] == df['answerKey']\n",
    "accuracy_OS_arm = df['accur_responses_arm_OS_letter'].mean() * 100\n",
    "\n",
    "df['accur_responses_arm_FS_letter'] = df['response_arm_FS_letter'] == df['answerKey']\n",
    "accuracy_FS_arm = df['accur_responses_arm_FS_letter'].mean() * 100\n",
    "\n",
    "print(f\"Accuracy of zero-shot Armenian: {accuracy_ZS_arm}%\")\n",
    "print(f\"Accuracy of one-shot Armenian: {accuracy_OS_arm}%\")\n",
    "print(f\"Accuracy of few-shot Armenian: {accuracy_FS_arm}%\")"
   ]
  },
  {
   "cell_type": "code",
   "execution_count": 299,
   "metadata": {},
   "outputs": [
    {
     "name": "stdout",
     "output_type": "stream",
     "text": [
      "Accuracy of zero-shot Armenian 2: 4.0%\n",
      "Accuracy of one-shot Armenian 2: 6.0%\n",
      "Accuracy of few-shot Armenian 2: 20.0%\n"
     ]
    }
   ],
   "source": [
    "df['accur_responses_arm_sys_ZS_letter'] = df['response_arm_sys_ZS_letter'] == df['answerKey']\n",
    "accuracy_ZS_arm_sys = df['accur_responses_arm_sys_ZS_letter'].mean() * 100\n",
    "\n",
    "df['accur_responses_arm_sys_OS_letter'] = df['response_arm_sys_OS_letter'] == df['answerKey']\n",
    "accuracy_OS_arm_sys = df['accur_responses_arm_sys_OS_letter'].mean() * 100\n",
    "\n",
    "df['accur_responses_arm_sys_FS_letter'] = df['response_arm_sys_FS_letter'] == df['answerKey']\n",
    "accuracy_FS_arm_sys = df['accur_responses_arm_sys_FS_letter'].mean() * 100\n",
    "\n",
    "print(f\"Accuracy of zero-shot Armenian 2: {accuracy_ZS_arm_sys}%\")\n",
    "print(f\"Accuracy of one-shot Armenian 2: {accuracy_OS_arm_sys}%\")\n",
    "print(f\"Accuracy of few-shot Armenian 2: {accuracy_FS_arm_sys}%\")"
   ]
  },
  {
   "cell_type": "code",
   "execution_count": 300,
   "metadata": {},
   "outputs": [
    {
     "data": {
      "image/png": "[encoded data removed]",
      "text/plain": [
       "<Figure size 1800x600 with 3 Axes>"
      ]
     },
     "metadata": {},
     "output_type": "display_data"
    }
   ],
   "source": [
    "# Plot for comparing zero-shot with answerKey\n",
    "answer_counts_en_ZS = df['responses_en_ZS_letter'].value_counts()\n",
    "answer_counts_arm_ZS = df['responses_arm_ZS_letter'].value_counts()\n",
    "answer_counts_answerKey = df['answerKey'].value_counts()\n",
    "\n",
    "fig, axs = plt.subplots(1, 3, figsize=(18, 6)) \n",
    "\n",
    "# Plot the distribution of English responses ZS\n",
    "axs[0].bar(answer_counts_en_ZS.index, answer_counts_en_ZS.values, color='lightblue')\n",
    "axs[0].set_xlabel('Letters')\n",
    "axs[0].set_ylabel('Count')\n",
    "axs[0].set_title('Distribution of English Responses (Zero-Shot)')\n",
    "\n",
    "# Plot the distribution of Armenian responses ZS\n",
    "axs[1].bar(answer_counts_arm_ZS.index, answer_counts_arm_ZS.values, color='lightblue')\n",
    "axs[1].set_xlabel('Letters')\n",
    "axs[1].set_ylabel('Count')\n",
    "axs[1].set_title('Distribution of Armenian Responses (Zero-Shot)')\n",
    "\n",
    "# Plot the distribution of AnswerKey\n",
    "axs[2].bar(answer_counts_answerKey.index, answer_counts_answerKey.values, color='lightblue')\n",
    "axs[2].set_xlabel('Letters')\n",
    "axs[2].set_ylabel('Count')\n",
    "axs[2].set_title('Distribution of AnswerKey')\n",
    "\n",
    "plt.tight_layout()\n",
    "plt.savefig('dist_MC_questions_ZS_and_answerKey.png') \n",
    "plt.show()\n"
   ]
  },
  {
   "cell_type": "code",
   "execution_count": 303,
   "metadata": {},
   "outputs": [
    {
     "data": {
      "image/png": "[encoded data removed]",
      "text/plain": [
       "<Figure size 1800x600 with 3 Axes>"
      ]
     },
     "metadata": {},
     "output_type": "display_data"
    }
   ],
   "source": [
    "# Plot for comparing one-shot with answerKey\n",
    "answer_counts_en_OS = df['response_en_OS_letter'].value_counts()\n",
    "answer_counts_arm_OS = df['response_arm_OS_letter'].value_counts()\n",
    "answer_counts_answerKey = df['answerKey'].value_counts()\n",
    "\n",
    "fig, axs = plt.subplots(1, 3, figsize=(18, 6)) \n",
    "\n",
    "# Plot the distribution of English responses OS\n",
    "axs[0].bar(answer_counts_en_OS.index, answer_counts_en_OS.values, color='lightblue')\n",
    "axs[0].set_xlabel('Letters')\n",
    "axs[0].set_ylabel('Count')\n",
    "axs[0].set_title('Distribution of English Responses (One-Shot)')\n",
    "\n",
    "# Plot the distribution of Armenian responses OS\n",
    "axs[1].bar(answer_counts_arm_OS.index, answer_counts_arm_OS.values, color='lightblue')\n",
    "axs[1].set_xlabel('Letters')\n",
    "axs[1].set_ylabel('Count')\n",
    "axs[1].set_title('Distribution of Armenian Responses (One-Shot)')\n",
    "\n",
    "# Plot the distribution of AnswerKey\n",
    "axs[2].bar(answer_counts_answerKey.index, answer_counts_answerKey.values, color='lightblue')\n",
    "axs[2].set_xlabel('Letters')\n",
    "axs[2].set_ylabel('Count')\n",
    "axs[2].set_title('Distribution of AnswerKey')\n",
    "\n",
    "plt.tight_layout()\n",
    "plt.show()"
   ]
  },
  {
   "cell_type": "code",
   "execution_count": 197,
   "metadata": {},
   "outputs": [
    {
     "data": {
      "image/png": "[encoded data removed]",
      "text/plain": [
       "<Figure size 1800x600 with 3 Axes>"
      ]
     },
     "metadata": {},
     "output_type": "display_data"
    }
   ],
   "source": [
    "# Plot for comparing few-shot with answerKey\n",
    "answer_counts_en_FS = df['responses_en_FS_letter'].value_counts()\n",
    "answer_counts_arm_FS = df['responses_arm_FS_letter'].value_counts()\n",
    "answer_counts_answerKey = df['answerKey'].value_counts()\n",
    "\n",
    "fig, axs = plt.subplots(1, 3, figsize=(18, 6)) \n",
    "\n",
    "# Plot the distribution of English responses OS\n",
    "axs[0].bar(answer_counts_en_FS.index, answer_counts_en_FS.values, color='lightblue')\n",
    "axs[0].set_xlabel('Letters')\n",
    "axs[0].set_ylabel('Count')\n",
    "axs[0].set_title('Distribution of English Responses (Few-Shot)')\n",
    "\n",
    "# Plot the distribution of Armenian responses OS\n",
    "axs[1].bar(answer_counts_arm_FS.index, answer_counts_arm_FS.values, color='lightblue')\n",
    "axs[1].set_xlabel('Letters')\n",
    "axs[1].set_ylabel('Count')\n",
    "axs[1].set_title('Distribution of Armenian Responses (Few-Shot)')\n",
    "\n",
    "# Plot the distribution of AnswerKey\n",
    "axs[2].bar(answer_counts_answerKey.index, answer_counts_answerKey.values, color='lightblue')\n",
    "axs[2].set_xlabel('Letters')\n",
    "axs[2].set_ylabel('Count')\n",
    "axs[2].set_title('Distribution of AnswerKey')\n",
    "\n",
    "plt.tight_layout()\n",
    "plt.show()"
   ]
  },
  {
   "cell_type": "code",
   "execution_count": 310,
   "metadata": {},
   "outputs": [
    {
     "data": {
      "image/png": "[encoded data removed]",
      "text/plain": [
       "<Figure size 1800x600 with 3 Axes>"
      ]
     },
     "metadata": {},
     "output_type": "display_data"
    }
   ],
   "source": [
    "# System message Armenian\n",
    "# Plot for comparing few-shot with answerKey\n",
    "answer_counts_en_FS = df['response_en_FS_letter'].value_counts()\n",
    "answer_counts_arm_FS = df['response_arm_sys_FS_letter'].value_counts()\n",
    "answer_counts_answerKey = df['answerKey'].value_counts()\n",
    "\n",
    "fig, axs = plt.subplots(1, 3, figsize=(18, 6)) \n",
    "\n",
    "# Plot the distribution of English responses OS\n",
    "axs[0].bar(answer_counts_en_FS.index, answer_counts_en_FS.values, color='lightblue')\n",
    "axs[0].set_xlabel('Letters')\n",
    "axs[0].set_ylabel('Count')\n",
    "axs[0].set_title('Distribution of English Responses (Few-Shot)')\n",
    "\n",
    "# Plot the distribution of Armenian responses OS\n",
    "axs[1].bar(answer_counts_arm_FS.index, answer_counts_arm_FS.values, color='lightblue')\n",
    "axs[1].set_xlabel('Letters')\n",
    "axs[1].set_ylabel('Count')\n",
    "axs[1].set_title('Distribution of Armenian Responses (Few-Shot)')\n",
    "\n",
    "# Plot the distribution of AnswerKey\n",
    "axs[2].bar(answer_counts_answerKey.index, answer_counts_answerKey.values, color='lightblue')\n",
    "axs[2].set_xlabel('Letters')\n",
    "axs[2].set_ylabel('Count')\n",
    "axs[2].set_title('Distribution of AnswerKey')\n",
    "\n",
    "plt.tight_layout()\n",
    "plt.savefig('dist_MC_questions_FS_and_answerKey.png') \n",
    "plt.show()"
   ]
  }
 ],
 "metadata": {
  "kernelspec": {
   "display_name": "Python 3",
   "language": "python",
   "name": "python3"
  },
  "language_info": {
   "codemirror_mode": {
    "name": "ipython",
    "version": 3
   },
   "file_extension": ".py",
   "mimetype": "text/x-python",
   "name": "python",
   "nbconvert_exporter": "python",
   "pygments_lexer": "ipython3",
   "version": "3.11.1"
  }
 },
 "nbformat": 4,
 "nbformat_minor": 2
}
